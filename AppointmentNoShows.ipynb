{
 "cells": [
  {
   "cell_type": "markdown",
   "metadata": {},
   "source": [
    "# Predicting Medical Appointment No Shows\n",
    "\n",
    "In this notebook we will pretend that a major medical panel in Brazil wants us to find out if it is possible to predict whether or not a patient will show up to their scheduled appointment. This [dataset](https://www.kaggle.com/joniarroba/noshowappointments) was found on Kaggle. The data contains ~110,000 scheduled appointments for ~62,000 unique patients. The variables given are patient id number, age, gender, the date and time that appoinment was scheduled as well as the date (but not the time) of the appointment, the neighborhood the hospital is located, scholarship or wellfare assistance, whether or not a text message was received, and several medical conditions or physical ailments.\n",
    "\n",
    "We will start by gleaming initial information from the dataframe, and do a little bit of cleaning. We will then dive into exploratory analysis and feature engineering, and finally model training and predicting the probability of a no-show for each appointment."
   ]
  },
  {
   "cell_type": "markdown",
   "metadata": {},
   "source": [
    "## Importing, Reading, and Cleaning"
   ]
  },
  {
   "cell_type": "code",
   "execution_count": 1,
   "metadata": {
    "collapsed": true
   },
   "outputs": [],
   "source": [
    "import pandas as pd\n",
    "import numpy as np\n",
    "import matplotlib.pyplot as plt\n",
    "import seaborn as sns\n",
    "from sklearn.ensemble import RandomForestClassifier\n",
    "from sklearn.model_selection import RandomizedSearchCV\n",
    "\n",
    "sns.set_style('darkgrid')\n",
    "%matplotlib inline"
   ]
  },
  {
   "cell_type": "code",
   "execution_count": 2,
   "metadata": {},
   "outputs": [
    {
     "data": {
      "text/html": [
       "<div>\n",
       "<style>\n",
       "    .dataframe thead tr:only-child th {\n",
       "        text-align: right;\n",
       "    }\n",
       "\n",
       "    .dataframe thead th {\n",
       "        text-align: left;\n",
       "    }\n",
       "\n",
       "    .dataframe tbody tr th {\n",
       "        vertical-align: top;\n",
       "    }\n",
       "</style>\n",
       "<table border=\"1\" class=\"dataframe\">\n",
       "  <thead>\n",
       "    <tr style=\"text-align: right;\">\n",
       "      <th></th>\n",
       "      <th>PatientId</th>\n",
       "      <th>AppointmentID</th>\n",
       "      <th>Gender</th>\n",
       "      <th>ScheduledDay</th>\n",
       "      <th>AppointmentDay</th>\n",
       "      <th>Age</th>\n",
       "      <th>Neighbourhood</th>\n",
       "      <th>Scholarship</th>\n",
       "      <th>Hipertension</th>\n",
       "      <th>Diabetes</th>\n",
       "      <th>Alcoholism</th>\n",
       "      <th>Handcap</th>\n",
       "      <th>SMS_received</th>\n",
       "      <th>No-show</th>\n",
       "    </tr>\n",
       "  </thead>\n",
       "  <tbody>\n",
       "    <tr>\n",
       "      <th>0</th>\n",
       "      <td>2.987250e+13</td>\n",
       "      <td>5642903</td>\n",
       "      <td>F</td>\n",
       "      <td>2016-04-29T18:38:08Z</td>\n",
       "      <td>2016-04-29T00:00:00Z</td>\n",
       "      <td>62</td>\n",
       "      <td>JARDIM DA PENHA</td>\n",
       "      <td>0</td>\n",
       "      <td>1</td>\n",
       "      <td>0</td>\n",
       "      <td>0</td>\n",
       "      <td>0</td>\n",
       "      <td>0</td>\n",
       "      <td>No</td>\n",
       "    </tr>\n",
       "    <tr>\n",
       "      <th>1</th>\n",
       "      <td>5.589978e+14</td>\n",
       "      <td>5642503</td>\n",
       "      <td>M</td>\n",
       "      <td>2016-04-29T16:08:27Z</td>\n",
       "      <td>2016-04-29T00:00:00Z</td>\n",
       "      <td>56</td>\n",
       "      <td>JARDIM DA PENHA</td>\n",
       "      <td>0</td>\n",
       "      <td>0</td>\n",
       "      <td>0</td>\n",
       "      <td>0</td>\n",
       "      <td>0</td>\n",
       "      <td>0</td>\n",
       "      <td>No</td>\n",
       "    </tr>\n",
       "    <tr>\n",
       "      <th>2</th>\n",
       "      <td>4.262962e+12</td>\n",
       "      <td>5642549</td>\n",
       "      <td>F</td>\n",
       "      <td>2016-04-29T16:19:04Z</td>\n",
       "      <td>2016-04-29T00:00:00Z</td>\n",
       "      <td>62</td>\n",
       "      <td>MATA DA PRAIA</td>\n",
       "      <td>0</td>\n",
       "      <td>0</td>\n",
       "      <td>0</td>\n",
       "      <td>0</td>\n",
       "      <td>0</td>\n",
       "      <td>0</td>\n",
       "      <td>No</td>\n",
       "    </tr>\n",
       "    <tr>\n",
       "      <th>3</th>\n",
       "      <td>8.679512e+11</td>\n",
       "      <td>5642828</td>\n",
       "      <td>F</td>\n",
       "      <td>2016-04-29T17:29:31Z</td>\n",
       "      <td>2016-04-29T00:00:00Z</td>\n",
       "      <td>8</td>\n",
       "      <td>PONTAL DE CAMBURI</td>\n",
       "      <td>0</td>\n",
       "      <td>0</td>\n",
       "      <td>0</td>\n",
       "      <td>0</td>\n",
       "      <td>0</td>\n",
       "      <td>0</td>\n",
       "      <td>No</td>\n",
       "    </tr>\n",
       "    <tr>\n",
       "      <th>4</th>\n",
       "      <td>8.841186e+12</td>\n",
       "      <td>5642494</td>\n",
       "      <td>F</td>\n",
       "      <td>2016-04-29T16:07:23Z</td>\n",
       "      <td>2016-04-29T00:00:00Z</td>\n",
       "      <td>56</td>\n",
       "      <td>JARDIM DA PENHA</td>\n",
       "      <td>0</td>\n",
       "      <td>1</td>\n",
       "      <td>1</td>\n",
       "      <td>0</td>\n",
       "      <td>0</td>\n",
       "      <td>0</td>\n",
       "      <td>No</td>\n",
       "    </tr>\n",
       "  </tbody>\n",
       "</table>\n",
       "</div>"
      ],
      "text/plain": [
       "      PatientId  AppointmentID Gender          ScheduledDay  \\\n",
       "0  2.987250e+13        5642903      F  2016-04-29T18:38:08Z   \n",
       "1  5.589978e+14        5642503      M  2016-04-29T16:08:27Z   \n",
       "2  4.262962e+12        5642549      F  2016-04-29T16:19:04Z   \n",
       "3  8.679512e+11        5642828      F  2016-04-29T17:29:31Z   \n",
       "4  8.841186e+12        5642494      F  2016-04-29T16:07:23Z   \n",
       "\n",
       "         AppointmentDay  Age      Neighbourhood  Scholarship  Hipertension  \\\n",
       "0  2016-04-29T00:00:00Z   62    JARDIM DA PENHA            0             1   \n",
       "1  2016-04-29T00:00:00Z   56    JARDIM DA PENHA            0             0   \n",
       "2  2016-04-29T00:00:00Z   62      MATA DA PRAIA            0             0   \n",
       "3  2016-04-29T00:00:00Z    8  PONTAL DE CAMBURI            0             0   \n",
       "4  2016-04-29T00:00:00Z   56    JARDIM DA PENHA            0             1   \n",
       "\n",
       "   Diabetes  Alcoholism  Handcap  SMS_received No-show  \n",
       "0         0           0        0             0      No  \n",
       "1         0           0        0             0      No  \n",
       "2         0           0        0             0      No  \n",
       "3         0           0        0             0      No  \n",
       "4         1           0        0             0      No  "
      ]
     },
     "execution_count": 2,
     "metadata": {},
     "output_type": "execute_result"
    }
   ],
   "source": [
    "app = pd.read_csv('.../Appointment No Shows.csv')\n",
    "app.head()"
   ]
  },
  {
   "cell_type": "code",
   "execution_count": 3,
   "metadata": {},
   "outputs": [
    {
     "name": "stdout",
     "output_type": "stream",
     "text": [
      "<class 'pandas.core.frame.DataFrame'>\n",
      "RangeIndex: 110527 entries, 0 to 110526\n",
      "Data columns (total 14 columns):\n",
      "PatientId         110527 non-null float64\n",
      "AppointmentID     110527 non-null int64\n",
      "Gender            110527 non-null object\n",
      "ScheduledDay      110527 non-null object\n",
      "AppointmentDay    110527 non-null object\n",
      "Age               110527 non-null int64\n",
      "Neighbourhood     110527 non-null object\n",
      "Scholarship       110527 non-null int64\n",
      "Hipertension      110527 non-null int64\n",
      "Diabetes          110527 non-null int64\n",
      "Alcoholism        110527 non-null int64\n",
      "Handcap           110527 non-null int64\n",
      "SMS_received      110527 non-null int64\n",
      "No-show           110527 non-null object\n",
      "dtypes: float64(1), int64(8), object(5)\n",
      "memory usage: 11.8+ MB\n"
     ]
    }
   ],
   "source": [
    "app.info()"
   ]
  },
  {
   "cell_type": "markdown",
   "metadata": {},
   "source": [
    "Scheduled Day and Appointment Day are object datatypes instead of datetime. We will change this in order to analyze the different components of time and date. We will also replace our target data into binary values of 0 and 1, 1 representing a no-show. I will create a column called 'Count' filled with 1's to enable easy analysis."
   ]
  },
  {
   "cell_type": "code",
   "execution_count": 4,
   "metadata": {
    "collapsed": true
   },
   "outputs": [],
   "source": [
    "#ScheduledDay and AppointmentDay to time series\n",
    "app['ScheduledDay'] = app['ScheduledDay'].apply(lambda x: x.replace('T', ' ')[:-1])\n",
    "app['AppointmentDay'] = app['AppointmentDay'].apply(lambda x: x.replace('T', ' ')[:-1])\n",
    "\n",
    "app['ScheduledDay'] = pd.to_datetime(app['ScheduledDay'])\n",
    "app['AppointmentDay'] = pd.to_datetime(app['AppointmentDay'])\n",
    "\n",
    "#No-show to binary numbers\n",
    "app['No-show'] = app['No-show'].replace({'No':0, 'Yes':1})\n",
    "#Column of 1's\n",
    "app['Count'] = 1"
   ]
  },
  {
   "cell_type": "markdown",
   "metadata": {},
   "source": [
    "## Analysis and Feature Engineering"
   ]
  },
  {
   "cell_type": "code",
   "execution_count": 5,
   "metadata": {},
   "outputs": [
    {
     "data": {
      "text/html": [
       "<div>\n",
       "<style>\n",
       "    .dataframe thead tr:only-child th {\n",
       "        text-align: right;\n",
       "    }\n",
       "\n",
       "    .dataframe thead th {\n",
       "        text-align: left;\n",
       "    }\n",
       "\n",
       "    .dataframe tbody tr th {\n",
       "        vertical-align: top;\n",
       "    }\n",
       "</style>\n",
       "<table border=\"1\" class=\"dataframe\">\n",
       "  <thead>\n",
       "    <tr style=\"text-align: right;\">\n",
       "      <th></th>\n",
       "      <th>PatientId</th>\n",
       "      <th>AppointmentID</th>\n",
       "      <th>Gender</th>\n",
       "      <th>ScheduledDay</th>\n",
       "      <th>AppointmentDay</th>\n",
       "      <th>Age</th>\n",
       "      <th>Neighbourhood</th>\n",
       "      <th>Scholarship</th>\n",
       "      <th>Hipertension</th>\n",
       "      <th>Diabetes</th>\n",
       "      <th>Alcoholism</th>\n",
       "      <th>Handcap</th>\n",
       "      <th>SMS_received</th>\n",
       "      <th>No-show</th>\n",
       "      <th>Count</th>\n",
       "    </tr>\n",
       "  </thead>\n",
       "  <tbody>\n",
       "    <tr>\n",
       "      <th>count</th>\n",
       "      <td>1.105270e+05</td>\n",
       "      <td>1.105270e+05</td>\n",
       "      <td>110527</td>\n",
       "      <td>110527</td>\n",
       "      <td>110527</td>\n",
       "      <td>110527.000000</td>\n",
       "      <td>110527</td>\n",
       "      <td>110527.000000</td>\n",
       "      <td>110527.000000</td>\n",
       "      <td>110527.000000</td>\n",
       "      <td>110527.000000</td>\n",
       "      <td>110527.000000</td>\n",
       "      <td>110527.000000</td>\n",
       "      <td>110527.000000</td>\n",
       "      <td>110527.0</td>\n",
       "    </tr>\n",
       "    <tr>\n",
       "      <th>unique</th>\n",
       "      <td>NaN</td>\n",
       "      <td>NaN</td>\n",
       "      <td>2</td>\n",
       "      <td>103549</td>\n",
       "      <td>27</td>\n",
       "      <td>NaN</td>\n",
       "      <td>81</td>\n",
       "      <td>NaN</td>\n",
       "      <td>NaN</td>\n",
       "      <td>NaN</td>\n",
       "      <td>NaN</td>\n",
       "      <td>NaN</td>\n",
       "      <td>NaN</td>\n",
       "      <td>NaN</td>\n",
       "      <td>NaN</td>\n",
       "    </tr>\n",
       "    <tr>\n",
       "      <th>top</th>\n",
       "      <td>NaN</td>\n",
       "      <td>NaN</td>\n",
       "      <td>F</td>\n",
       "      <td>2016-05-06 07:09:54</td>\n",
       "      <td>2016-06-06 00:00:00</td>\n",
       "      <td>NaN</td>\n",
       "      <td>JARDIM CAMBURI</td>\n",
       "      <td>NaN</td>\n",
       "      <td>NaN</td>\n",
       "      <td>NaN</td>\n",
       "      <td>NaN</td>\n",
       "      <td>NaN</td>\n",
       "      <td>NaN</td>\n",
       "      <td>NaN</td>\n",
       "      <td>NaN</td>\n",
       "    </tr>\n",
       "    <tr>\n",
       "      <th>freq</th>\n",
       "      <td>NaN</td>\n",
       "      <td>NaN</td>\n",
       "      <td>71840</td>\n",
       "      <td>24</td>\n",
       "      <td>4692</td>\n",
       "      <td>NaN</td>\n",
       "      <td>7717</td>\n",
       "      <td>NaN</td>\n",
       "      <td>NaN</td>\n",
       "      <td>NaN</td>\n",
       "      <td>NaN</td>\n",
       "      <td>NaN</td>\n",
       "      <td>NaN</td>\n",
       "      <td>NaN</td>\n",
       "      <td>NaN</td>\n",
       "    </tr>\n",
       "    <tr>\n",
       "      <th>first</th>\n",
       "      <td>NaN</td>\n",
       "      <td>NaN</td>\n",
       "      <td>NaN</td>\n",
       "      <td>2015-11-10 07:13:56</td>\n",
       "      <td>2016-04-29 00:00:00</td>\n",
       "      <td>NaN</td>\n",
       "      <td>NaN</td>\n",
       "      <td>NaN</td>\n",
       "      <td>NaN</td>\n",
       "      <td>NaN</td>\n",
       "      <td>NaN</td>\n",
       "      <td>NaN</td>\n",
       "      <td>NaN</td>\n",
       "      <td>NaN</td>\n",
       "      <td>NaN</td>\n",
       "    </tr>\n",
       "    <tr>\n",
       "      <th>last</th>\n",
       "      <td>NaN</td>\n",
       "      <td>NaN</td>\n",
       "      <td>NaN</td>\n",
       "      <td>2016-06-08 20:07:23</td>\n",
       "      <td>2016-06-08 00:00:00</td>\n",
       "      <td>NaN</td>\n",
       "      <td>NaN</td>\n",
       "      <td>NaN</td>\n",
       "      <td>NaN</td>\n",
       "      <td>NaN</td>\n",
       "      <td>NaN</td>\n",
       "      <td>NaN</td>\n",
       "      <td>NaN</td>\n",
       "      <td>NaN</td>\n",
       "      <td>NaN</td>\n",
       "    </tr>\n",
       "    <tr>\n",
       "      <th>mean</th>\n",
       "      <td>1.474963e+14</td>\n",
       "      <td>5.675305e+06</td>\n",
       "      <td>NaN</td>\n",
       "      <td>NaN</td>\n",
       "      <td>NaN</td>\n",
       "      <td>37.088874</td>\n",
       "      <td>NaN</td>\n",
       "      <td>0.098266</td>\n",
       "      <td>0.197246</td>\n",
       "      <td>0.071865</td>\n",
       "      <td>0.030400</td>\n",
       "      <td>0.022248</td>\n",
       "      <td>0.321026</td>\n",
       "      <td>0.201933</td>\n",
       "      <td>1.0</td>\n",
       "    </tr>\n",
       "    <tr>\n",
       "      <th>std</th>\n",
       "      <td>2.560949e+14</td>\n",
       "      <td>7.129575e+04</td>\n",
       "      <td>NaN</td>\n",
       "      <td>NaN</td>\n",
       "      <td>NaN</td>\n",
       "      <td>23.110205</td>\n",
       "      <td>NaN</td>\n",
       "      <td>0.297675</td>\n",
       "      <td>0.397921</td>\n",
       "      <td>0.258265</td>\n",
       "      <td>0.171686</td>\n",
       "      <td>0.161543</td>\n",
       "      <td>0.466873</td>\n",
       "      <td>0.401444</td>\n",
       "      <td>0.0</td>\n",
       "    </tr>\n",
       "    <tr>\n",
       "      <th>min</th>\n",
       "      <td>3.921784e+04</td>\n",
       "      <td>5.030230e+06</td>\n",
       "      <td>NaN</td>\n",
       "      <td>NaN</td>\n",
       "      <td>NaN</td>\n",
       "      <td>-1.000000</td>\n",
       "      <td>NaN</td>\n",
       "      <td>0.000000</td>\n",
       "      <td>0.000000</td>\n",
       "      <td>0.000000</td>\n",
       "      <td>0.000000</td>\n",
       "      <td>0.000000</td>\n",
       "      <td>0.000000</td>\n",
       "      <td>0.000000</td>\n",
       "      <td>1.0</td>\n",
       "    </tr>\n",
       "    <tr>\n",
       "      <th>25%</th>\n",
       "      <td>4.172614e+12</td>\n",
       "      <td>5.640286e+06</td>\n",
       "      <td>NaN</td>\n",
       "      <td>NaN</td>\n",
       "      <td>NaN</td>\n",
       "      <td>18.000000</td>\n",
       "      <td>NaN</td>\n",
       "      <td>0.000000</td>\n",
       "      <td>0.000000</td>\n",
       "      <td>0.000000</td>\n",
       "      <td>0.000000</td>\n",
       "      <td>0.000000</td>\n",
       "      <td>0.000000</td>\n",
       "      <td>0.000000</td>\n",
       "      <td>1.0</td>\n",
       "    </tr>\n",
       "    <tr>\n",
       "      <th>50%</th>\n",
       "      <td>3.173184e+13</td>\n",
       "      <td>5.680573e+06</td>\n",
       "      <td>NaN</td>\n",
       "      <td>NaN</td>\n",
       "      <td>NaN</td>\n",
       "      <td>37.000000</td>\n",
       "      <td>NaN</td>\n",
       "      <td>0.000000</td>\n",
       "      <td>0.000000</td>\n",
       "      <td>0.000000</td>\n",
       "      <td>0.000000</td>\n",
       "      <td>0.000000</td>\n",
       "      <td>0.000000</td>\n",
       "      <td>0.000000</td>\n",
       "      <td>1.0</td>\n",
       "    </tr>\n",
       "    <tr>\n",
       "      <th>75%</th>\n",
       "      <td>9.439172e+13</td>\n",
       "      <td>5.725524e+06</td>\n",
       "      <td>NaN</td>\n",
       "      <td>NaN</td>\n",
       "      <td>NaN</td>\n",
       "      <td>55.000000</td>\n",
       "      <td>NaN</td>\n",
       "      <td>0.000000</td>\n",
       "      <td>0.000000</td>\n",
       "      <td>0.000000</td>\n",
       "      <td>0.000000</td>\n",
       "      <td>0.000000</td>\n",
       "      <td>1.000000</td>\n",
       "      <td>0.000000</td>\n",
       "      <td>1.0</td>\n",
       "    </tr>\n",
       "    <tr>\n",
       "      <th>max</th>\n",
       "      <td>9.999816e+14</td>\n",
       "      <td>5.790484e+06</td>\n",
       "      <td>NaN</td>\n",
       "      <td>NaN</td>\n",
       "      <td>NaN</td>\n",
       "      <td>115.000000</td>\n",
       "      <td>NaN</td>\n",
       "      <td>1.000000</td>\n",
       "      <td>1.000000</td>\n",
       "      <td>1.000000</td>\n",
       "      <td>1.000000</td>\n",
       "      <td>4.000000</td>\n",
       "      <td>1.000000</td>\n",
       "      <td>1.000000</td>\n",
       "      <td>1.0</td>\n",
       "    </tr>\n",
       "  </tbody>\n",
       "</table>\n",
       "</div>"
      ],
      "text/plain": [
       "           PatientId  AppointmentID  Gender         ScheduledDay  \\\n",
       "count   1.105270e+05   1.105270e+05  110527               110527   \n",
       "unique           NaN            NaN       2               103549   \n",
       "top              NaN            NaN       F  2016-05-06 07:09:54   \n",
       "freq             NaN            NaN   71840                   24   \n",
       "first            NaN            NaN     NaN  2015-11-10 07:13:56   \n",
       "last             NaN            NaN     NaN  2016-06-08 20:07:23   \n",
       "mean    1.474963e+14   5.675305e+06     NaN                  NaN   \n",
       "std     2.560949e+14   7.129575e+04     NaN                  NaN   \n",
       "min     3.921784e+04   5.030230e+06     NaN                  NaN   \n",
       "25%     4.172614e+12   5.640286e+06     NaN                  NaN   \n",
       "50%     3.173184e+13   5.680573e+06     NaN                  NaN   \n",
       "75%     9.439172e+13   5.725524e+06     NaN                  NaN   \n",
       "max     9.999816e+14   5.790484e+06     NaN                  NaN   \n",
       "\n",
       "             AppointmentDay            Age   Neighbourhood    Scholarship  \\\n",
       "count                110527  110527.000000          110527  110527.000000   \n",
       "unique                   27            NaN              81            NaN   \n",
       "top     2016-06-06 00:00:00            NaN  JARDIM CAMBURI            NaN   \n",
       "freq                   4692            NaN            7717            NaN   \n",
       "first   2016-04-29 00:00:00            NaN             NaN            NaN   \n",
       "last    2016-06-08 00:00:00            NaN             NaN            NaN   \n",
       "mean                    NaN      37.088874             NaN       0.098266   \n",
       "std                     NaN      23.110205             NaN       0.297675   \n",
       "min                     NaN      -1.000000             NaN       0.000000   \n",
       "25%                     NaN      18.000000             NaN       0.000000   \n",
       "50%                     NaN      37.000000             NaN       0.000000   \n",
       "75%                     NaN      55.000000             NaN       0.000000   \n",
       "max                     NaN     115.000000             NaN       1.000000   \n",
       "\n",
       "         Hipertension       Diabetes     Alcoholism        Handcap  \\\n",
       "count   110527.000000  110527.000000  110527.000000  110527.000000   \n",
       "unique            NaN            NaN            NaN            NaN   \n",
       "top               NaN            NaN            NaN            NaN   \n",
       "freq              NaN            NaN            NaN            NaN   \n",
       "first             NaN            NaN            NaN            NaN   \n",
       "last              NaN            NaN            NaN            NaN   \n",
       "mean         0.197246       0.071865       0.030400       0.022248   \n",
       "std          0.397921       0.258265       0.171686       0.161543   \n",
       "min          0.000000       0.000000       0.000000       0.000000   \n",
       "25%          0.000000       0.000000       0.000000       0.000000   \n",
       "50%          0.000000       0.000000       0.000000       0.000000   \n",
       "75%          0.000000       0.000000       0.000000       0.000000   \n",
       "max          1.000000       1.000000       1.000000       4.000000   \n",
       "\n",
       "         SMS_received        No-show     Count  \n",
       "count   110527.000000  110527.000000  110527.0  \n",
       "unique            NaN            NaN       NaN  \n",
       "top               NaN            NaN       NaN  \n",
       "freq              NaN            NaN       NaN  \n",
       "first             NaN            NaN       NaN  \n",
       "last              NaN            NaN       NaN  \n",
       "mean         0.321026       0.201933       1.0  \n",
       "std          0.466873       0.401444       0.0  \n",
       "min          0.000000       0.000000       1.0  \n",
       "25%          0.000000       0.000000       1.0  \n",
       "50%          0.000000       0.000000       1.0  \n",
       "75%          1.000000       0.000000       1.0  \n",
       "max          1.000000       1.000000       1.0  "
      ]
     },
     "execution_count": 5,
     "metadata": {},
     "output_type": "execute_result"
    }
   ],
   "source": [
    "app.describe(include='all')"
   ]
  },
  {
   "cell_type": "markdown",
   "metadata": {},
   "source": [
    "The medical condition features are all binary except Handicap which ranges from 0 to 4."
   ]
  },
  {
   "cell_type": "markdown",
   "metadata": {},
   "source": [
    "### Recurring Patients\n",
    "\n",
    "Many of the patients have multiple appointments. Surely they will have patterns of missed appointments."
   ]
  },
  {
   "cell_type": "code",
   "execution_count": 6,
   "metadata": {},
   "outputs": [
    {
     "data": {
      "text/plain": [
       "PatientId\n",
       "8.221459e+14    88\n",
       "9.963767e+10    84\n",
       "2.688613e+13    70\n",
       "3.353478e+13    65\n",
       "8.713749e+14    62\n",
       "6.264199e+12    62\n",
       "2.584244e+11    62\n",
       "7.579746e+13    62\n",
       "6.684488e+13    57\n",
       "8.722785e+11    55\n",
       "Name: Count, dtype: int64"
      ]
     },
     "execution_count": 6,
     "metadata": {},
     "output_type": "execute_result"
    }
   ],
   "source": [
    "app.groupby('PatientId').sum().sort_values('Count', ascending=False)['Count'].head(10)"
   ]
  },
  {
   "cell_type": "markdown",
   "metadata": {},
   "source": [
    "Can't imagine why someone would have to go to the doctor 88 times in a 2 month stretch, but I'm not sure I want to know. We will label each patient with the fraction that they didn't show up if they had at least 3 appointments. Otherwise, they will be labeled with the leftover average."
   ]
  },
  {
   "cell_type": "code",
   "execution_count": 7,
   "metadata": {},
   "outputs": [
    {
     "data": {
      "text/plain": [
       "count    62299.000000\n",
       "mean         0.196430\n",
       "std          0.351419\n",
       "min          0.000000\n",
       "25%          0.000000\n",
       "50%          0.000000\n",
       "75%          0.333333\n",
       "max          1.000000\n",
       "Name: % No-show, dtype: float64"
      ]
     },
     "execution_count": 7,
     "metadata": {},
     "output_type": "execute_result"
    }
   ],
   "source": [
    "appPatient = app.groupby('PatientId').sum()[['No-show', 'Count']]\n",
    "appPatient['% No-show'] = appPatient['No-show'] / appPatient['Count']\n",
    "appPatient = appPatient.sort_values('% No-show', ascending=False)\n",
    "appPatient['PatientId'] = appPatient.index\n",
    "appPatient['% No-show'].describe()"
   ]
  },
  {
   "cell_type": "code",
   "execution_count": 8,
   "metadata": {
    "collapsed": true
   },
   "outputs": [],
   "source": [
    "app['Patient Occurences'] = np.nan\n",
    "occurences_dict = dict(zip(appPatient['PatientId'], appPatient['Count']))\n",
    "app['Patient Occurences'] = app['PatientId'].replace(occurences_dict)\n",
    "\n",
    "app['% Patient'] = app[app['Patient Occurences'] < 3]['No-show'].mean()\n",
    "patient_dict = dict(zip(appPatient[appPatient['Count'] >= 3]['PatientId'], appPatient[appPatient['Count'] >= 3]['% No-show']))\n",
    "app.loc[app['Patient Occurences'] >= 3, '% Patient'] = app.loc[app['Patient Occurences'] >= 3, 'PatientId'].replace(patient_dict)"
   ]
  },
  {
   "cell_type": "markdown",
   "metadata": {},
   "source": [
    "### Gender and Age\n",
    "\n",
    "More women seek healthcare than men. Later, we will change the gender column to binary, but we know that 65% of appointments are scheduled for females."
   ]
  },
  {
   "cell_type": "code",
   "execution_count": 9,
   "metadata": {},
   "outputs": [
    {
     "data": {
      "text/plain": [
       "F    71840\n",
       "M    38687\n",
       "Name: Gender, dtype: int64"
      ]
     },
     "execution_count": 9,
     "metadata": {},
     "output_type": "execute_result"
    }
   ],
   "source": [
    "app['Gender'].value_counts()"
   ]
  },
  {
   "cell_type": "code",
   "execution_count": 10,
   "metadata": {},
   "outputs": [
    {
     "data": {
      "text/html": [
       "<div>\n",
       "<style>\n",
       "    .dataframe thead tr:only-child th {\n",
       "        text-align: right;\n",
       "    }\n",
       "\n",
       "    .dataframe thead th {\n",
       "        text-align: left;\n",
       "    }\n",
       "\n",
       "    .dataframe tbody tr th {\n",
       "        vertical-align: top;\n",
       "    }\n",
       "</style>\n",
       "<table border=\"1\" class=\"dataframe\">\n",
       "  <thead>\n",
       "    <tr style=\"text-align: right;\">\n",
       "      <th>No-show</th>\n",
       "      <th>0</th>\n",
       "      <th>1</th>\n",
       "    </tr>\n",
       "    <tr>\n",
       "      <th>Gender</th>\n",
       "      <th></th>\n",
       "      <th></th>\n",
       "    </tr>\n",
       "  </thead>\n",
       "  <tbody>\n",
       "    <tr>\n",
       "      <th>F</th>\n",
       "      <td>57246</td>\n",
       "      <td>14594</td>\n",
       "    </tr>\n",
       "    <tr>\n",
       "      <th>M</th>\n",
       "      <td>30962</td>\n",
       "      <td>7725</td>\n",
       "    </tr>\n",
       "  </tbody>\n",
       "</table>\n",
       "</div>"
      ],
      "text/plain": [
       "No-show      0      1\n",
       "Gender               \n",
       "F        57246  14594\n",
       "M        30962   7725"
      ]
     },
     "execution_count": 10,
     "metadata": {},
     "output_type": "execute_result"
    }
   ],
   "source": [
    "pd.crosstab(app['Gender'], app['No-show'])"
   ]
  },
  {
   "cell_type": "code",
   "execution_count": 11,
   "metadata": {},
   "outputs": [
    {
     "data": {
      "text/plain": [
       "0.20314587973273943"
      ]
     },
     "execution_count": 11,
     "metadata": {},
     "output_type": "execute_result"
    }
   ],
   "source": [
    "14594 / (14594 + 57246) #% No-show for females"
   ]
  },
  {
   "cell_type": "code",
   "execution_count": 12,
   "metadata": {},
   "outputs": [
    {
     "data": {
      "text/plain": [
       "0.19967947889471915"
      ]
     },
     "execution_count": 12,
     "metadata": {},
     "output_type": "execute_result"
    }
   ],
   "source": [
    "7725 / (7725 + 30962) #% No-show for males"
   ]
  },
  {
   "cell_type": "markdown",
   "metadata": {},
   "source": [
    "There is no difference in missed appointments purely by gender."
   ]
  },
  {
   "cell_type": "code",
   "execution_count": 13,
   "metadata": {},
   "outputs": [
    {
     "data": {
      "text/plain": [
       "<matplotlib.axes._subplots.AxesSubplot at 0x254a5b59080>"
      ]
     },
     "execution_count": 13,
     "metadata": {},
     "output_type": "execute_result"
    },
    {
     "data": {
      "image/png": "[encoded data removed]",
      "text/plain": [
       "<matplotlib.figure.Figure at 0x254a4a5fa58>"
      ]
     },
     "metadata": {},
     "output_type": "display_data"
    }
   ],
   "source": [
    "plt.title('No-Show by Gender and Age')\n",
    "sns.violinplot(x='Gender', y='Age', hue='No-show', data=app, split=True, inner='quart', scale='count')"
   ]
  },
  {
   "cell_type": "markdown",
   "metadata": {},
   "source": [
    "There is a slight dip for females missing appointments in teenage years.\n",
    "Now we will group all of the individual ages together and plot the percent that missed appointments for males and females."
   ]
  },
  {
   "cell_type": "code",
   "execution_count": 14,
   "metadata": {
    "collapsed": true
   },
   "outputs": [],
   "source": [
    "appAge = app.pivot_table(values='No-show', index='Age', columns='Gender', aggfunc='mean')\n",
    "appAge['Age'] = appAge.index"
   ]
  },
  {
   "cell_type": "code",
   "execution_count": 15,
   "metadata": {},
   "outputs": [
    {
     "data": {
      "image/png": "[encoded data removed]",
      "text/plain": [
       "<matplotlib.figure.Figure at 0x254a931ca90>"
      ]
     },
     "metadata": {},
     "output_type": "display_data"
    }
   ],
   "source": [
    "sns.regplot(x='Age', y='F', data=appAge)\n",
    "plt.ylabel('Percent Missed Appointment')\n",
    "plt.title('Percent of Appointments Missed by Age: Female')\n",
    "plt.show()"
   ]
  },
  {
   "cell_type": "code",
   "execution_count": 16,
   "metadata": {},
   "outputs": [
    {
     "data": {
      "image/png": "[encoded data removed]",
      "text/plain": [
       "<matplotlib.figure.Figure at 0x254a72ad160>"
      ]
     },
     "metadata": {},
     "output_type": "display_data"
    }
   ],
   "source": [
    "sns.regplot(x='Age', y='M', data=appAge)\n",
    "plt.ylabel('Percent Missed Appointment')\n",
    "plt.title('Percent of Appointments Missed by Age: Male')\n",
    "plt.show()"
   ]
  },
  {
   "cell_type": "markdown",
   "metadata": {},
   "source": [
    "There is a little more deviation in the y-axis of the male graph. There are three interesting intervals that occur in both maps. The first is a rise in missed appointments until about age 20. The second is a slow decline in missed appointments from 20 to 80. The third is a rise in deviation after age 80. Our outliers occur when there are only a few people of a given age. We will take a look at the first interval seperate and then the second and third intervals together."
   ]
  },
  {
   "cell_type": "code",
   "execution_count": 17,
   "metadata": {},
   "outputs": [
    {
     "data": {
      "image/png": "[encoded data removed]",
      "text/plain": [
       "<matplotlib.figure.Figure at 0x254a730ccc0>"
      ]
     },
     "metadata": {},
     "output_type": "display_data"
    }
   ],
   "source": [
    "sns.regplot(x='Age', y='F', data=appAge[appAge['Age'] < 18])\n",
    "plt.ylabel('Percent Missed Appointment')\n",
    "plt.title('Percent of Appointments Missed by Minors: Female')\n",
    "plt.xticks(range(19))\n",
    "plt.show()"
   ]
  },
  {
   "cell_type": "code",
   "execution_count": 18,
   "metadata": {},
   "outputs": [
    {
     "data": {
      "image/png": "[encoded data removed]",
      "text/plain": [
       "<matplotlib.figure.Figure at 0x254a8eb0048>"
      ]
     },
     "metadata": {},
     "output_type": "display_data"
    }
   ],
   "source": [
    "sns.regplot(x='Age', y='M', data=appAge[appAge['Age'] < 18])\n",
    "plt.ylabel('Percent Missed Appointment')\n",
    "plt.title('Percent of Appointments Missed by Minors: Male')\n",
    "plt.xticks(range(19))\n",
    "plt.show()"
   ]
  },
  {
   "cell_type": "markdown",
   "metadata": {},
   "source": [
    "These graphs are similar with the exception of a single outlier in the female graph where we have a negative age, which slightly skews the regression line."
   ]
  },
  {
   "cell_type": "code",
   "execution_count": 19,
   "metadata": {},
   "outputs": [
    {
     "data": {
      "image/png": "[encoded data removed]",
      "text/plain": [
       "<matplotlib.figure.Figure at 0x254a8f667f0>"
      ]
     },
     "metadata": {},
     "output_type": "display_data"
    }
   ],
   "source": [
    "sns.regplot(x='Age', y='F', data=appAge[appAge['Age'] >= 18])\n",
    "plt.ylabel('Percent Missed Appointment')\n",
    "plt.title('Percent of Appointments Missed by Adults: Female')\n",
    "plt.show()"
   ]
  },
  {
   "cell_type": "code",
   "execution_count": 20,
   "metadata": {},
   "outputs": [
    {
     "data": {
      "image/png": "[encoded data removed]",
      "text/plain": [
       "<matplotlib.figure.Figure at 0x254a8eec6a0>"
      ]
     },
     "metadata": {},
     "output_type": "display_data"
    }
   ],
   "source": [
    "sns.regplot(x='Age', y='M', data=appAge[appAge['Age'] >= 18])\n",
    "plt.ylabel('Percent Missed Appointment')\n",
    "plt.title('Percent of Appointments Missed by Adults: Male')\n",
    "plt.show()"
   ]
  },
  {
   "cell_type": "markdown",
   "metadata": {},
   "source": [
    "### Neighborhood\n",
    "\n",
    "There are 81 different neighborhoods. I am sure that each neighborhood has its own pattern of no-shows."
   ]
  },
  {
   "cell_type": "code",
   "execution_count": 21,
   "metadata": {},
   "outputs": [
    {
     "data": {
      "text/plain": [
       "81"
      ]
     },
     "execution_count": 21,
     "metadata": {},
     "output_type": "execute_result"
    }
   ],
   "source": [
    "len(app['Neighbourhood'].value_counts())"
   ]
  },
  {
   "cell_type": "code",
   "execution_count": 22,
   "metadata": {
    "collapsed": true
   },
   "outputs": [],
   "source": [
    "appNeigh = app.groupby('Neighbourhood').sum()[['No-show', 'Count']]\n",
    "appNeigh['% No-show'] = appNeigh['No-show'] / appNeigh['Count']\n",
    "appNeigh = appNeigh.sort_values('% No-show', ascending=False)\n",
    "appNeigh['Neighbourhood'] = appNeigh.index"
   ]
  },
  {
   "cell_type": "code",
   "execution_count": 23,
   "metadata": {},
   "outputs": [
    {
     "data": {
      "text/html": [
       "<div>\n",
       "<style>\n",
       "    .dataframe thead tr:only-child th {\n",
       "        text-align: right;\n",
       "    }\n",
       "\n",
       "    .dataframe thead th {\n",
       "        text-align: left;\n",
       "    }\n",
       "\n",
       "    .dataframe tbody tr th {\n",
       "        vertical-align: top;\n",
       "    }\n",
       "</style>\n",
       "<table border=\"1\" class=\"dataframe\">\n",
       "  <thead>\n",
       "    <tr style=\"text-align: right;\">\n",
       "      <th></th>\n",
       "      <th>No-show</th>\n",
       "      <th>Count</th>\n",
       "      <th>% No-show</th>\n",
       "      <th>Neighbourhood</th>\n",
       "    </tr>\n",
       "    <tr>\n",
       "      <th>Neighbourhood</th>\n",
       "      <th></th>\n",
       "      <th></th>\n",
       "      <th></th>\n",
       "      <th></th>\n",
       "    </tr>\n",
       "  </thead>\n",
       "  <tbody>\n",
       "    <tr>\n",
       "      <th>ILHAS OCEÂNICAS DE TRINDADE</th>\n",
       "      <td>2</td>\n",
       "      <td>2</td>\n",
       "      <td>1.000000</td>\n",
       "      <td>ILHAS OCEÂNICAS DE TRINDADE</td>\n",
       "    </tr>\n",
       "    <tr>\n",
       "      <th>SANTOS DUMONT</th>\n",
       "      <td>369</td>\n",
       "      <td>1276</td>\n",
       "      <td>0.289185</td>\n",
       "      <td>SANTOS DUMONT</td>\n",
       "    </tr>\n",
       "    <tr>\n",
       "      <th>SANTA CECÍLIA</th>\n",
       "      <td>123</td>\n",
       "      <td>448</td>\n",
       "      <td>0.274554</td>\n",
       "      <td>SANTA CECÍLIA</td>\n",
       "    </tr>\n",
       "    <tr>\n",
       "      <th>SANTA CLARA</th>\n",
       "      <td>134</td>\n",
       "      <td>506</td>\n",
       "      <td>0.264822</td>\n",
       "      <td>SANTA CLARA</td>\n",
       "    </tr>\n",
       "    <tr>\n",
       "      <th>ITARARÉ</th>\n",
       "      <td>923</td>\n",
       "      <td>3514</td>\n",
       "      <td>0.262664</td>\n",
       "      <td>ITARARÉ</td>\n",
       "    </tr>\n",
       "    <tr>\n",
       "      <th>JESUS DE NAZARETH</th>\n",
       "      <td>696</td>\n",
       "      <td>2853</td>\n",
       "      <td>0.243954</td>\n",
       "      <td>JESUS DE NAZARETH</td>\n",
       "    </tr>\n",
       "    <tr>\n",
       "      <th>HORTO</th>\n",
       "      <td>42</td>\n",
       "      <td>175</td>\n",
       "      <td>0.240000</td>\n",
       "      <td>HORTO</td>\n",
       "    </tr>\n",
       "    <tr>\n",
       "      <th>ILHA DO PRÍNCIPE</th>\n",
       "      <td>532</td>\n",
       "      <td>2266</td>\n",
       "      <td>0.234775</td>\n",
       "      <td>ILHA DO PRÍNCIPE</td>\n",
       "    </tr>\n",
       "    <tr>\n",
       "      <th>CARATOÍRA</th>\n",
       "      <td>591</td>\n",
       "      <td>2565</td>\n",
       "      <td>0.230409</td>\n",
       "      <td>CARATOÍRA</td>\n",
       "    </tr>\n",
       "    <tr>\n",
       "      <th>ANDORINHAS</th>\n",
       "      <td>521</td>\n",
       "      <td>2262</td>\n",
       "      <td>0.230327</td>\n",
       "      <td>ANDORINHAS</td>\n",
       "    </tr>\n",
       "    <tr>\n",
       "      <th>PRAIA DO SUÁ</th>\n",
       "      <td>294</td>\n",
       "      <td>1288</td>\n",
       "      <td>0.228261</td>\n",
       "      <td>PRAIA DO SUÁ</td>\n",
       "    </tr>\n",
       "    <tr>\n",
       "      <th>GURIGICA</th>\n",
       "      <td>456</td>\n",
       "      <td>2018</td>\n",
       "      <td>0.225966</td>\n",
       "      <td>GURIGICA</td>\n",
       "    </tr>\n",
       "    <tr>\n",
       "      <th>BENTO FERREIRA</th>\n",
       "      <td>193</td>\n",
       "      <td>858</td>\n",
       "      <td>0.224942</td>\n",
       "      <td>BENTO FERREIRA</td>\n",
       "    </tr>\n",
       "    <tr>\n",
       "      <th>PARQUE MOSCOSO</th>\n",
       "      <td>179</td>\n",
       "      <td>802</td>\n",
       "      <td>0.223192</td>\n",
       "      <td>PARQUE MOSCOSO</td>\n",
       "    </tr>\n",
       "    <tr>\n",
       "      <th>MARUÍPE</th>\n",
       "      <td>424</td>\n",
       "      <td>1902</td>\n",
       "      <td>0.222923</td>\n",
       "      <td>MARUÍPE</td>\n",
       "    </tr>\n",
       "    <tr>\n",
       "      <th>DO MOSCOSO</th>\n",
       "      <td>92</td>\n",
       "      <td>413</td>\n",
       "      <td>0.222760</td>\n",
       "      <td>DO MOSCOSO</td>\n",
       "    </tr>\n",
       "    <tr>\n",
       "      <th>ENSEADA DO SUÁ</th>\n",
       "      <td>52</td>\n",
       "      <td>235</td>\n",
       "      <td>0.221277</td>\n",
       "      <td>ENSEADA DO SUÁ</td>\n",
       "    </tr>\n",
       "    <tr>\n",
       "      <th>ARIOVALDO FAVALESSA</th>\n",
       "      <td>62</td>\n",
       "      <td>282</td>\n",
       "      <td>0.219858</td>\n",
       "      <td>ARIOVALDO FAVALESSA</td>\n",
       "    </tr>\n",
       "    <tr>\n",
       "      <th>ILHA DAS CAIEIRAS</th>\n",
       "      <td>235</td>\n",
       "      <td>1071</td>\n",
       "      <td>0.219421</td>\n",
       "      <td>ILHA DAS CAIEIRAS</td>\n",
       "    </tr>\n",
       "    <tr>\n",
       "      <th>FONTE GRANDE</th>\n",
       "      <td>149</td>\n",
       "      <td>682</td>\n",
       "      <td>0.218475</td>\n",
       "      <td>FONTE GRANDE</td>\n",
       "    </tr>\n",
       "  </tbody>\n",
       "</table>\n",
       "</div>"
      ],
      "text/plain": [
       "                             No-show  Count  % No-show  \\\n",
       "Neighbourhood                                            \n",
       "ILHAS OCEÂNICAS DE TRINDADE        2      2   1.000000   \n",
       "SANTOS DUMONT                    369   1276   0.289185   \n",
       "SANTA CECÍLIA                    123    448   0.274554   \n",
       "SANTA CLARA                      134    506   0.264822   \n",
       "ITARARÉ                          923   3514   0.262664   \n",
       "JESUS DE NAZARETH                696   2853   0.243954   \n",
       "HORTO                             42    175   0.240000   \n",
       "ILHA DO PRÍNCIPE                 532   2266   0.234775   \n",
       "CARATOÍRA                        591   2565   0.230409   \n",
       "ANDORINHAS                       521   2262   0.230327   \n",
       "PRAIA DO SUÁ                     294   1288   0.228261   \n",
       "GURIGICA                         456   2018   0.225966   \n",
       "BENTO FERREIRA                   193    858   0.224942   \n",
       "PARQUE MOSCOSO                   179    802   0.223192   \n",
       "MARUÍPE                          424   1902   0.222923   \n",
       "DO MOSCOSO                        92    413   0.222760   \n",
       "ENSEADA DO SUÁ                    52    235   0.221277   \n",
       "ARIOVALDO FAVALESSA               62    282   0.219858   \n",
       "ILHA DAS CAIEIRAS                235   1071   0.219421   \n",
       "FONTE GRANDE                     149    682   0.218475   \n",
       "\n",
       "                                           Neighbourhood  \n",
       "Neighbourhood                                             \n",
       "ILHAS OCEÂNICAS DE TRINDADE  ILHAS OCEÂNICAS DE TRINDADE  \n",
       "SANTOS DUMONT                              SANTOS DUMONT  \n",
       "SANTA CECÍLIA                              SANTA CECÍLIA  \n",
       "SANTA CLARA                                  SANTA CLARA  \n",
       "ITARARÉ                                          ITARARÉ  \n",
       "JESUS DE NAZARETH                      JESUS DE NAZARETH  \n",
       "HORTO                                              HORTO  \n",
       "ILHA DO PRÍNCIPE                        ILHA DO PRÍNCIPE  \n",
       "CARATOÍRA                                      CARATOÍRA  \n",
       "ANDORINHAS                                    ANDORINHAS  \n",
       "PRAIA DO SUÁ                                PRAIA DO SUÁ  \n",
       "GURIGICA                                        GURIGICA  \n",
       "BENTO FERREIRA                            BENTO FERREIRA  \n",
       "PARQUE MOSCOSO                            PARQUE MOSCOSO  \n",
       "MARUÍPE                                          MARUÍPE  \n",
       "DO MOSCOSO                                    DO MOSCOSO  \n",
       "ENSEADA DO SUÁ                            ENSEADA DO SUÁ  \n",
       "ARIOVALDO FAVALESSA                  ARIOVALDO FAVALESSA  \n",
       "ILHA DAS CAIEIRAS                      ILHA DAS CAIEIRAS  \n",
       "FONTE GRANDE                                FONTE GRANDE  "
      ]
     },
     "execution_count": 23,
     "metadata": {},
     "output_type": "execute_result"
    }
   ],
   "source": [
    "appNeigh.head(20)"
   ]
  },
  {
   "cell_type": "code",
   "execution_count": 24,
   "metadata": {},
   "outputs": [
    {
     "data": {
      "text/html": [
       "<div>\n",
       "<style>\n",
       "    .dataframe thead tr:only-child th {\n",
       "        text-align: right;\n",
       "    }\n",
       "\n",
       "    .dataframe thead th {\n",
       "        text-align: left;\n",
       "    }\n",
       "\n",
       "    .dataframe tbody tr th {\n",
       "        vertical-align: top;\n",
       "    }\n",
       "</style>\n",
       "<table border=\"1\" class=\"dataframe\">\n",
       "  <thead>\n",
       "    <tr style=\"text-align: right;\">\n",
       "      <th></th>\n",
       "      <th>No-show</th>\n",
       "      <th>Count</th>\n",
       "      <th>% No-show</th>\n",
       "      <th>Neighbourhood</th>\n",
       "    </tr>\n",
       "    <tr>\n",
       "      <th>Neighbourhood</th>\n",
       "      <th></th>\n",
       "      <th></th>\n",
       "      <th></th>\n",
       "      <th></th>\n",
       "    </tr>\n",
       "  </thead>\n",
       "  <tbody>\n",
       "    <tr>\n",
       "      <th>JABOUR</th>\n",
       "      <td>451</td>\n",
       "      <td>2509</td>\n",
       "      <td>0.179753</td>\n",
       "      <td>JABOUR</td>\n",
       "    </tr>\n",
       "    <tr>\n",
       "      <th>NOVA PALESTINA</th>\n",
       "      <td>402</td>\n",
       "      <td>2264</td>\n",
       "      <td>0.177562</td>\n",
       "      <td>NOVA PALESTINA</td>\n",
       "    </tr>\n",
       "    <tr>\n",
       "      <th>REDENÇÃO</th>\n",
       "      <td>275</td>\n",
       "      <td>1553</td>\n",
       "      <td>0.177077</td>\n",
       "      <td>REDENÇÃO</td>\n",
       "    </tr>\n",
       "    <tr>\n",
       "      <th>SANTO ANTÔNIO</th>\n",
       "      <td>484</td>\n",
       "      <td>2746</td>\n",
       "      <td>0.176256</td>\n",
       "      <td>SANTO ANTÔNIO</td>\n",
       "    </tr>\n",
       "    <tr>\n",
       "      <th>PONTAL DE CAMBURI</th>\n",
       "      <td>12</td>\n",
       "      <td>69</td>\n",
       "      <td>0.173913</td>\n",
       "      <td>PONTAL DE CAMBURI</td>\n",
       "    </tr>\n",
       "    <tr>\n",
       "      <th>CONSOLAÇÃO</th>\n",
       "      <td>237</td>\n",
       "      <td>1376</td>\n",
       "      <td>0.172238</td>\n",
       "      <td>CONSOLAÇÃO</td>\n",
       "    </tr>\n",
       "    <tr>\n",
       "      <th>REPÚBLICA</th>\n",
       "      <td>143</td>\n",
       "      <td>835</td>\n",
       "      <td>0.171257</td>\n",
       "      <td>REPÚBLICA</td>\n",
       "    </tr>\n",
       "    <tr>\n",
       "      <th>MATA DA PRAIA</th>\n",
       "      <td>110</td>\n",
       "      <td>644</td>\n",
       "      <td>0.170807</td>\n",
       "      <td>MATA DA PRAIA</td>\n",
       "    </tr>\n",
       "    <tr>\n",
       "      <th>MORADA DE CAMBURI</th>\n",
       "      <td>16</td>\n",
       "      <td>96</td>\n",
       "      <td>0.166667</td>\n",
       "      <td>MORADA DE CAMBURI</td>\n",
       "    </tr>\n",
       "    <tr>\n",
       "      <th>VILA RUBIM</th>\n",
       "      <td>141</td>\n",
       "      <td>851</td>\n",
       "      <td>0.165687</td>\n",
       "      <td>VILA RUBIM</td>\n",
       "    </tr>\n",
       "    <tr>\n",
       "      <th>DO QUADRO</th>\n",
       "      <td>140</td>\n",
       "      <td>849</td>\n",
       "      <td>0.164900</td>\n",
       "      <td>DO QUADRO</td>\n",
       "    </tr>\n",
       "    <tr>\n",
       "      <th>JARDIM DA PENHA</th>\n",
       "      <td>631</td>\n",
       "      <td>3877</td>\n",
       "      <td>0.162755</td>\n",
       "      <td>JARDIM DA PENHA</td>\n",
       "    </tr>\n",
       "    <tr>\n",
       "      <th>SANTA MARTHA</th>\n",
       "      <td>496</td>\n",
       "      <td>3131</td>\n",
       "      <td>0.158416</td>\n",
       "      <td>SANTA MARTHA</td>\n",
       "    </tr>\n",
       "    <tr>\n",
       "      <th>DO CABRAL</th>\n",
       "      <td>88</td>\n",
       "      <td>560</td>\n",
       "      <td>0.157143</td>\n",
       "      <td>DO CABRAL</td>\n",
       "    </tr>\n",
       "    <tr>\n",
       "      <th>DE LOURDES</th>\n",
       "      <td>47</td>\n",
       "      <td>305</td>\n",
       "      <td>0.154098</td>\n",
       "      <td>DE LOURDES</td>\n",
       "    </tr>\n",
       "    <tr>\n",
       "      <th>SOLON BORGES</th>\n",
       "      <td>69</td>\n",
       "      <td>469</td>\n",
       "      <td>0.147122</td>\n",
       "      <td>SOLON BORGES</td>\n",
       "    </tr>\n",
       "    <tr>\n",
       "      <th>MÁRIO CYPRESTE</th>\n",
       "      <td>54</td>\n",
       "      <td>371</td>\n",
       "      <td>0.145553</td>\n",
       "      <td>MÁRIO CYPRESTE</td>\n",
       "    </tr>\n",
       "    <tr>\n",
       "      <th>AEROPORTO</th>\n",
       "      <td>1</td>\n",
       "      <td>8</td>\n",
       "      <td>0.125000</td>\n",
       "      <td>AEROPORTO</td>\n",
       "    </tr>\n",
       "    <tr>\n",
       "      <th>ILHA DO BOI</th>\n",
       "      <td>3</td>\n",
       "      <td>35</td>\n",
       "      <td>0.085714</td>\n",
       "      <td>ILHA DO BOI</td>\n",
       "    </tr>\n",
       "    <tr>\n",
       "      <th>PARQUE INDUSTRIAL</th>\n",
       "      <td>0</td>\n",
       "      <td>1</td>\n",
       "      <td>0.000000</td>\n",
       "      <td>PARQUE INDUSTRIAL</td>\n",
       "    </tr>\n",
       "  </tbody>\n",
       "</table>\n",
       "</div>"
      ],
      "text/plain": [
       "                   No-show  Count  % No-show      Neighbourhood\n",
       "Neighbourhood                                                  \n",
       "JABOUR                 451   2509   0.179753             JABOUR\n",
       "NOVA PALESTINA         402   2264   0.177562     NOVA PALESTINA\n",
       "REDENÇÃO               275   1553   0.177077           REDENÇÃO\n",
       "SANTO ANTÔNIO          484   2746   0.176256      SANTO ANTÔNIO\n",
       "PONTAL DE CAMBURI       12     69   0.173913  PONTAL DE CAMBURI\n",
       "CONSOLAÇÃO             237   1376   0.172238         CONSOLAÇÃO\n",
       "REPÚBLICA              143    835   0.171257          REPÚBLICA\n",
       "MATA DA PRAIA          110    644   0.170807      MATA DA PRAIA\n",
       "MORADA DE CAMBURI       16     96   0.166667  MORADA DE CAMBURI\n",
       "VILA RUBIM             141    851   0.165687         VILA RUBIM\n",
       "DO QUADRO              140    849   0.164900          DO QUADRO\n",
       "JARDIM DA PENHA        631   3877   0.162755    JARDIM DA PENHA\n",
       "SANTA MARTHA           496   3131   0.158416       SANTA MARTHA\n",
       "DO CABRAL               88    560   0.157143          DO CABRAL\n",
       "DE LOURDES              47    305   0.154098         DE LOURDES\n",
       "SOLON BORGES            69    469   0.147122       SOLON BORGES\n",
       "MÁRIO CYPRESTE          54    371   0.145553     MÁRIO CYPRESTE\n",
       "AEROPORTO                1      8   0.125000          AEROPORTO\n",
       "ILHA DO BOI              3     35   0.085714        ILHA DO BOI\n",
       "PARQUE INDUSTRIAL        0      1   0.000000  PARQUE INDUSTRIAL"
      ]
     },
     "execution_count": 24,
     "metadata": {},
     "output_type": "execute_result"
    }
   ],
   "source": [
    "appNeigh.tail(20)"
   ]
  },
  {
   "cell_type": "markdown",
   "metadata": {},
   "source": [
    "Almost every neighborhood is between 14.5% and 29.0%. Those that aren't have a small sample population. These values will replace the categorical value of neighborhood for the analysis. For samples with less than 20, we'll replace it with the leftover average."
   ]
  },
  {
   "cell_type": "code",
   "execution_count": 25,
   "metadata": {},
   "outputs": [
    {
     "data": {
      "text/html": [
       "<div>\n",
       "<style>\n",
       "    .dataframe thead tr:only-child th {\n",
       "        text-align: right;\n",
       "    }\n",
       "\n",
       "    .dataframe thead th {\n",
       "        text-align: left;\n",
       "    }\n",
       "\n",
       "    .dataframe tbody tr th {\n",
       "        vertical-align: top;\n",
       "    }\n",
       "</style>\n",
       "<table border=\"1\" class=\"dataframe\">\n",
       "  <thead>\n",
       "    <tr style=\"text-align: right;\">\n",
       "      <th></th>\n",
       "      <th>No-show</th>\n",
       "      <th>Count</th>\n",
       "      <th>% No-show</th>\n",
       "      <th>Neighbourhood</th>\n",
       "    </tr>\n",
       "    <tr>\n",
       "      <th>Neighbourhood</th>\n",
       "      <th></th>\n",
       "      <th></th>\n",
       "      <th></th>\n",
       "      <th></th>\n",
       "    </tr>\n",
       "  </thead>\n",
       "  <tbody>\n",
       "    <tr>\n",
       "      <th>ILHAS OCEÂNICAS DE TRINDADE</th>\n",
       "      <td>2</td>\n",
       "      <td>2</td>\n",
       "      <td>1.000</td>\n",
       "      <td>ILHAS OCEÂNICAS DE TRINDADE</td>\n",
       "    </tr>\n",
       "    <tr>\n",
       "      <th>ILHA DO FRADE</th>\n",
       "      <td>2</td>\n",
       "      <td>10</td>\n",
       "      <td>0.200</td>\n",
       "      <td>ILHA DO FRADE</td>\n",
       "    </tr>\n",
       "    <tr>\n",
       "      <th>AEROPORTO</th>\n",
       "      <td>1</td>\n",
       "      <td>8</td>\n",
       "      <td>0.125</td>\n",
       "      <td>AEROPORTO</td>\n",
       "    </tr>\n",
       "    <tr>\n",
       "      <th>PARQUE INDUSTRIAL</th>\n",
       "      <td>0</td>\n",
       "      <td>1</td>\n",
       "      <td>0.000</td>\n",
       "      <td>PARQUE INDUSTRIAL</td>\n",
       "    </tr>\n",
       "  </tbody>\n",
       "</table>\n",
       "</div>"
      ],
      "text/plain": [
       "                             No-show  Count  % No-show  \\\n",
       "Neighbourhood                                            \n",
       "ILHAS OCEÂNICAS DE TRINDADE        2      2      1.000   \n",
       "ILHA DO FRADE                      2     10      0.200   \n",
       "AEROPORTO                          1      8      0.125   \n",
       "PARQUE INDUSTRIAL                  0      1      0.000   \n",
       "\n",
       "                                           Neighbourhood  \n",
       "Neighbourhood                                             \n",
       "ILHAS OCEÂNICAS DE TRINDADE  ILHAS OCEÂNICAS DE TRINDADE  \n",
       "ILHA DO FRADE                              ILHA DO FRADE  \n",
       "AEROPORTO                                      AEROPORTO  \n",
       "PARQUE INDUSTRIAL                      PARQUE INDUSTRIAL  "
      ]
     },
     "execution_count": 25,
     "metadata": {},
     "output_type": "execute_result"
    }
   ],
   "source": [
    "appNeigh[appNeigh['Count'] <= 20]"
   ]
  },
  {
   "cell_type": "code",
   "execution_count": 26,
   "metadata": {
    "collapsed": true
   },
   "outputs": [],
   "source": [
    "appNeigh.loc[appNeigh['Count'] <= 20, '% No-show'] = appNeigh['% No-show'].mean()"
   ]
  },
  {
   "cell_type": "code",
   "execution_count": 27,
   "metadata": {
    "collapsed": true
   },
   "outputs": [],
   "source": [
    "#Replacing values for neighborhood\n",
    "percent_dict = dict(zip(appNeigh['Neighbourhood'], appNeigh['% No-show']))\n",
    "app['% Neighbourhood'] = app['Neighbourhood'].replace(percent_dict)"
   ]
  },
  {
   "cell_type": "markdown",
   "metadata": {},
   "source": [
    "### Medical Conditions"
   ]
  },
  {
   "cell_type": "markdown",
   "metadata": {},
   "source": [
    "Instead of having four different columns for seperate medical conditions, it might be appropriate to create a new column that is the sum of the four original columns."
   ]
  },
  {
   "cell_type": "code",
   "execution_count": 28,
   "metadata": {},
   "outputs": [
    {
     "data": {
      "text/plain": [
       "Condition Sum\n",
       "0    0.209273\n",
       "1    0.179472\n",
       "2    0.176913\n",
       "3    0.169872\n",
       "4    0.190476\n",
       "5    1.000000\n",
       "Name: No-show, dtype: float64"
      ]
     },
     "execution_count": 28,
     "metadata": {},
     "output_type": "execute_result"
    }
   ],
   "source": [
    "app['Condition Sum'] = app['Hipertension'] + app['Diabetes'] + app['Alcoholism'] + app['Handcap']\n",
    "app.groupby('Condition Sum').mean()['No-show']"
   ]
  },
  {
   "cell_type": "markdown",
   "metadata": {},
   "source": [
    "The difference of these values are not significant. There is only one patient who's value of 5. This new column is not worth keeping."
   ]
  },
  {
   "cell_type": "code",
   "execution_count": 29,
   "metadata": {
    "collapsed": true
   },
   "outputs": [],
   "source": [
    "del app['Condition Sum']"
   ]
  },
  {
   "cell_type": "markdown",
   "metadata": {},
   "source": [
    "### Scheduled in Advance\n",
    "\n",
    "Now we will create a new column for days scheduled in advance based on datetime information we gained from two original values in our dataframe."
   ]
  },
  {
   "cell_type": "code",
   "execution_count": 30,
   "metadata": {},
   "outputs": [
    {
     "data": {
      "text/plain": [
       "count    110527.000000\n",
       "mean         10.183702\n",
       "std          15.254996\n",
       "min          -6.000000\n",
       "25%           0.000000\n",
       "50%           4.000000\n",
       "75%          15.000000\n",
       "90%          30.000000\n",
       "95%          39.000000\n",
       "98%          59.000000\n",
       "max         179.000000\n",
       "Name: Scheduled Ahead, dtype: float64"
      ]
     },
     "execution_count": 30,
     "metadata": {},
     "output_type": "execute_result"
    }
   ],
   "source": [
    "app['Scheduled Ahead'] = (app['AppointmentDay'].apply(lambda x: x.date())\n",
    "                        - app['ScheduledDay'].apply(lambda x: x.date())).dt.days\n",
    "app['Scheduled Ahead'].describe(percentiles=[.25, .50, .75, .90, .95, .98])"
   ]
  },
  {
   "cell_type": "markdown",
   "metadata": {},
   "source": [
    "95% of the patients scheduled their appointment less than 40 days in advance and 98% of the patients scheduled their appointment less than 60 days in advance. Therefore, we will focus on data below the 98 percentile. Some of this data has a negative value, I will address this later."
   ]
  },
  {
   "cell_type": "code",
   "execution_count": 31,
   "metadata": {},
   "outputs": [
    {
     "data": {
      "text/plain": [
       "<matplotlib.axes._subplots.AxesSubplot at 0x255b40b60f0>"
      ]
     },
     "execution_count": 31,
     "metadata": {},
     "output_type": "execute_result"
    },
    {
     "data": {
      "image/png": "[encoded data removed]",
      "text/plain": [
       "<matplotlib.figure.Figure at 0x254a8f4ae10>"
      ]
     },
     "metadata": {},
     "output_type": "display_data"
    }
   ],
   "source": [
    "sns.distplot(app['Scheduled Ahead'])"
   ]
  },
  {
   "cell_type": "code",
   "execution_count": 32,
   "metadata": {},
   "outputs": [
    {
     "data": {
      "text/plain": [
       "<matplotlib.axes._subplots.AxesSubplot at 0x255b40a2160>"
      ]
     },
     "execution_count": 32,
     "metadata": {},
     "output_type": "execute_result"
    },
    {
     "data": {
      "image/png": "[encoded data removed]",
      "text/plain": [
       "<matplotlib.figure.Figure at 0x254a5e46da0>"
      ]
     },
     "metadata": {},
     "output_type": "display_data"
    }
   ],
   "source": [
    "plt.title('No-Shows by Days Scheduled Ahead')\n",
    "plt.ylim(0, 60)\n",
    "sns.violinplot(x='No-show', y='Scheduled Ahead', data=app[app['Scheduled Ahead'] <= 60], inner='quart', scale='count')"
   ]
  },
  {
   "cell_type": "markdown",
   "metadata": {},
   "source": [
    "There is a wide base on the left hand plot because there are a lot of values where days scheduled ahead is zero. I'm not sure if this means the patient just showed up, if they called in and arrived the same day, or something else, but there are over 38,000 instances when scheduled ahead is zero, and over 95% arrived. This is so significant that it might be worth doing this project again cutting out all samples that the appointment is not scheduled ahead. \n",
    "\n",
    "Also, as shown below, I have no idea what negative values for this mean, but there are only 5 values like this out of the ~110,000 sample, so I will change them all to zero. The next violin plot will have only positive values for 'Scheduled Ahead'."
   ]
  },
  {
   "cell_type": "code",
   "execution_count": 33,
   "metadata": {},
   "outputs": [
    {
     "data": {
      "text/plain": [
       "Scheduled Ahead\n",
       "-6    1.000000\n",
       "-1    1.000000\n",
       " 0    0.046469\n",
       " 1    0.213505\n",
       " 2    0.238216\n",
       " 3    0.235294\n",
       "Name: No-show, dtype: float64"
      ]
     },
     "execution_count": 33,
     "metadata": {},
     "output_type": "execute_result"
    }
   ],
   "source": [
    "app[app['Scheduled Ahead'] <= 3].groupby('Scheduled Ahead')['No-show'].mean()"
   ]
  },
  {
   "cell_type": "code",
   "execution_count": 34,
   "metadata": {},
   "outputs": [
    {
     "data": {
      "text/plain": [
       " 0    38563\n",
       " 2     6725\n",
       " 1     5213\n",
       " 3     2737\n",
       "-1        4\n",
       "-6        1\n",
       "Name: Scheduled Ahead, dtype: int64"
      ]
     },
     "execution_count": 34,
     "metadata": {},
     "output_type": "execute_result"
    }
   ],
   "source": [
    "app[app['Scheduled Ahead'] <= 3]['Scheduled Ahead'].value_counts()"
   ]
  },
  {
   "cell_type": "code",
   "execution_count": 35,
   "metadata": {
    "collapsed": true
   },
   "outputs": [],
   "source": [
    "app.loc[app['Scheduled Ahead'] < 0, 'Scheduled Ahead'] = 0"
   ]
  },
  {
   "cell_type": "code",
   "execution_count": 36,
   "metadata": {},
   "outputs": [
    {
     "data": {
      "text/plain": [
       "<matplotlib.axes._subplots.AxesSubplot at 0x254a5e46dd8>"
      ]
     },
     "execution_count": 36,
     "metadata": {},
     "output_type": "execute_result"
    },
    {
     "data": {
      "image/png": "[encoded data removed]",
      "text/plain": [
       "<matplotlib.figure.Figure at 0x254a7255f28>"
      ]
     },
     "metadata": {},
     "output_type": "display_data"
    }
   ],
   "source": [
    "plt.title('No-Shows by Days Scheduled Ahead')\n",
    "plt.ylim(0, 60)\n",
    "sns.violinplot(x='No-show', y='Scheduled Ahead', data=app[(app['Scheduled Ahead'] <= 60) & (app['Scheduled Ahead'] > 0)], inner='quart', scale='count')"
   ]
  },
  {
   "cell_type": "markdown",
   "metadata": {},
   "source": [
    "The highest chance of making an appointment occurs when the appointment is scheduled around a week in advance. Now, like we did with ages, we will group all of the individual days scheduled ahead together and plot the percent that missed appointments."
   ]
  },
  {
   "cell_type": "code",
   "execution_count": 37,
   "metadata": {},
   "outputs": [
    {
     "data": {
      "text/html": [
       "<div>\n",
       "<style>\n",
       "    .dataframe thead tr:only-child th {\n",
       "        text-align: right;\n",
       "    }\n",
       "\n",
       "    .dataframe thead th {\n",
       "        text-align: left;\n",
       "    }\n",
       "\n",
       "    .dataframe tbody tr th {\n",
       "        vertical-align: top;\n",
       "    }\n",
       "</style>\n",
       "<table border=\"1\" class=\"dataframe\">\n",
       "  <thead>\n",
       "    <tr style=\"text-align: right;\">\n",
       "      <th></th>\n",
       "      <th>No-show</th>\n",
       "      <th>Scheduled Ahead</th>\n",
       "    </tr>\n",
       "    <tr>\n",
       "      <th>Scheduled Ahead</th>\n",
       "      <th></th>\n",
       "      <th></th>\n",
       "    </tr>\n",
       "  </thead>\n",
       "  <tbody>\n",
       "    <tr>\n",
       "      <th>0</th>\n",
       "      <td>0.046593</td>\n",
       "      <td>0</td>\n",
       "    </tr>\n",
       "    <tr>\n",
       "      <th>1</th>\n",
       "      <td>0.213505</td>\n",
       "      <td>1</td>\n",
       "    </tr>\n",
       "    <tr>\n",
       "      <th>2</th>\n",
       "      <td>0.238216</td>\n",
       "      <td>2</td>\n",
       "    </tr>\n",
       "    <tr>\n",
       "      <th>3</th>\n",
       "      <td>0.235294</td>\n",
       "      <td>3</td>\n",
       "    </tr>\n",
       "    <tr>\n",
       "      <th>4</th>\n",
       "      <td>0.232703</td>\n",
       "      <td>4</td>\n",
       "    </tr>\n",
       "  </tbody>\n",
       "</table>\n",
       "</div>"
      ],
      "text/plain": [
       "                  No-show  Scheduled Ahead\n",
       "Scheduled Ahead                           \n",
       "0                0.046593                0\n",
       "1                0.213505                1\n",
       "2                0.238216                2\n",
       "3                0.235294                3\n",
       "4                0.232703                4"
      ]
     },
     "execution_count": 37,
     "metadata": {},
     "output_type": "execute_result"
    }
   ],
   "source": [
    "appSched = pd.DataFrame(app.groupby('Scheduled Ahead').mean()['No-show'])\n",
    "appSched['Scheduled Ahead'] = appSched.index\n",
    "app[app['Scheduled Ahead'] < 1]['Scheduled Ahead'].value_counts()\n",
    "appSched.head()"
   ]
  },
  {
   "cell_type": "code",
   "execution_count": 38,
   "metadata": {},
   "outputs": [
    {
     "data": {
      "text/plain": [
       "<seaborn.axisgrid.JointGrid at 0x254a8f66470>"
      ]
     },
     "execution_count": 38,
     "metadata": {},
     "output_type": "execute_result"
    },
    {
     "data": {
      "image/png": "[encoded data removed]",
      "text/plain": [
       "<matplotlib.figure.Figure at 0x254a8f66160>"
      ]
     },
     "metadata": {},
     "output_type": "display_data"
    }
   ],
   "source": [
    "#Veiwing relationship to scheduled ahead and no-show percentage\n",
    "sns.jointplot('Scheduled Ahead', y='No-show', data=appSched[(appSched['Scheduled Ahead'] >= 1) & (appSched['Scheduled Ahead'] <= 60)])"
   ]
  },
  {
   "cell_type": "markdown",
   "metadata": {},
   "source": [
    "Our plot can be split in two sections. The first appears linear up until 15-20 days ahead of time. Then it becomes non-linear and highly varied. We will take a look at these two sections seperately. I will use 20 as the border, but you could argue that the start of the variation is at 15."
   ]
  },
  {
   "cell_type": "code",
   "execution_count": 39,
   "metadata": {},
   "outputs": [
    {
     "data": {
      "text/plain": [
       "<seaborn.axisgrid.JointGrid at 0x2562ee8b940>"
      ]
     },
     "execution_count": 39,
     "metadata": {},
     "output_type": "execute_result"
    },
    {
     "data": {
      "image/png": "[encoded data removed]",
      "text/plain": [
       "<matplotlib.figure.Figure at 0x2562ee8ba20>"
      ]
     },
     "metadata": {},
     "output_type": "display_data"
    }
   ],
   "source": [
    "sns.jointplot('Scheduled Ahead', y='No-show', data=appSched[(appSched['Scheduled Ahead'] >= 1) & (appSched['Scheduled Ahead'] <= 20)])"
   ]
  },
  {
   "cell_type": "markdown",
   "metadata": {},
   "source": [
    "High correlation and low p-value are great signs here. We can conclude that missed appointments are partially a function of days scheduled in advance as long is the this value is <= 20."
   ]
  },
  {
   "cell_type": "code",
   "execution_count": 40,
   "metadata": {},
   "outputs": [
    {
     "data": {
      "text/plain": [
       "<seaborn.axisgrid.JointGrid at 0x254a6a3a9b0>"
      ]
     },
     "execution_count": 40,
     "metadata": {},
     "output_type": "execute_result"
    },
    {
     "data": {
      "image/png": "[encoded data removed]",
      "text/plain": [
       "<matplotlib.figure.Figure at 0x254a6a00400>"
      ]
     },
     "metadata": {},
     "output_type": "display_data"
    }
   ],
   "source": [
    "sns.jointplot('Scheduled Ahead', y='No-show', data=appSched[(appSched['Scheduled Ahead'] > 20) & (appSched['Scheduled Ahead'] <= 60)])"
   ]
  },
  {
   "cell_type": "markdown",
   "metadata": {},
   "source": [
    "We cannot begin to predict whether an appointment will be missed based on days scheduled ahead > 20. Because of this, we will use an average value for all values greater than 20. Now we will look outside of our 98% sample, where values are > 60."
   ]
  },
  {
   "cell_type": "code",
   "execution_count": 41,
   "metadata": {},
   "outputs": [
    {
     "data": {
      "text/plain": [
       "<seaborn.axisgrid.JointGrid at 0x254a695f9b0>"
      ]
     },
     "execution_count": 41,
     "metadata": {},
     "output_type": "execute_result"
    },
    {
     "data": {
      "image/png": "[encoded data removed]",
      "text/plain": [
       "<matplotlib.figure.Figure at 0x254a695fa20>"
      ]
     },
     "metadata": {},
     "output_type": "display_data"
    }
   ],
   "source": [
    "sns.jointplot('Scheduled Ahead', y='No-show', data=appSched[appSched['Scheduled Ahead'] > 60])"
   ]
  },
  {
   "cell_type": "markdown",
   "metadata": {},
   "source": [
    "This is less than 2% of the entire dataset, and clearly we can't use this information to make a prediction. We will use the same average as those between 20 and 60. It is important we get this information from the original dataframe since the appSched has unbalanced numbers."
   ]
  },
  {
   "cell_type": "code",
   "execution_count": 42,
   "metadata": {
    "collapsed": true
   },
   "outputs": [],
   "source": [
    "mean_20_to_60 = app[(app['Scheduled Ahead'] > 20) & (app['Scheduled Ahead'] <= 60)]['No-show'].mean()\n",
    "appSched.loc[(appSched['Scheduled Ahead'] > 20) & (appSched['Scheduled Ahead'] <= 60), 'No-show'] = mean_20_to_60\n",
    "\n",
    "mean_over_60 = app[app['Scheduled Ahead'] > 60]['No-show'].mean()\n",
    "appSched.loc[appSched['Scheduled Ahead'] > 60, 'No-show'] = mean_over_60\n",
    "\n",
    "sa_dict = dict(zip(appSched['Scheduled Ahead'], appSched['No-show']))\n",
    "\n",
    "#Inputting averages into original dataframe\n",
    "app['% Scheduled Ahead'] = app['Scheduled Ahead'].replace(sa_dict)"
   ]
  },
  {
   "cell_type": "markdown",
   "metadata": {},
   "source": [
    "### Scheduled Time\n",
    "\n",
    "Now we will examine whether the time of day the patient called to schedule matters."
   ]
  },
  {
   "cell_type": "code",
   "execution_count": 43,
   "metadata": {},
   "outputs": [
    {
     "data": {
      "text/plain": [
       "<seaborn.axisgrid.JointGrid at 0x254a6c88b70>"
      ]
     },
     "execution_count": 43,
     "metadata": {},
     "output_type": "execute_result"
    },
    {
     "data": {
      "image/png": "[encoded data removed]",
      "text/plain": [
       "<matplotlib.figure.Figure at 0x254a6caaef0>"
      ]
     },
     "metadata": {},
     "output_type": "display_data"
    }
   ],
   "source": [
    "app['Scheduled Hour'] = app['ScheduledDay'].dt.hour\n",
    "appHour = pd.DataFrame(app.groupby('Scheduled Hour').mean()['No-show'])\n",
    "appHour['Scheduled Hour'] = appHour.index\n",
    "sns.jointplot(x='Scheduled Hour', y='No-show', data=appHour)"
   ]
  },
  {
   "cell_type": "code",
   "execution_count": 44,
   "metadata": {},
   "outputs": [
    {
     "data": {
      "text/plain": [
       "7     19213\n",
       "8     15349\n",
       "9     12823\n",
       "10    11056\n",
       "14     9127\n",
       "13     9036\n",
       "11     8462\n",
       "15     8079\n",
       "16     5542\n",
       "12     5422\n",
       "17     2909\n",
       "6      1578\n",
       "18     1340\n",
       "19      488\n",
       "20      100\n",
       "21        3\n",
       "Name: Scheduled Hour, dtype: int64"
      ]
     },
     "execution_count": 44,
     "metadata": {},
     "output_type": "execute_result"
    }
   ],
   "source": [
    "app['Scheduled Hour'].value_counts()"
   ]
  },
  {
   "cell_type": "markdown",
   "metadata": {},
   "source": [
    "The earlier in the day the appointment was scheduled, the higher the chance to patient will show up."
   ]
  },
  {
   "cell_type": "code",
   "execution_count": 45,
   "metadata": {
    "collapsed": true
   },
   "outputs": [],
   "source": [
    "sh_dict = dict(zip(appHour['Scheduled Hour'], appHour['No-show']))\n",
    "app['% Scheduled Hour'] = app['Scheduled Hour'].replace(sh_dict)"
   ]
  },
  {
   "cell_type": "markdown",
   "metadata": {},
   "source": [
    "### Scheduled Day of the Week\n",
    "\n",
    "Now that we've looked at the time the patient called to schedule, we will look at the day."
   ]
  },
  {
   "cell_type": "code",
   "execution_count": 46,
   "metadata": {},
   "outputs": [
    {
     "data": {
      "text/plain": [
       "1    26168\n",
       "2    24262\n",
       "0    23085\n",
       "4    18915\n",
       "3    18073\n",
       "5       24\n",
       "Name: ScheduledDay, dtype: int64"
      ]
     },
     "execution_count": 46,
     "metadata": {},
     "output_type": "execute_result"
    }
   ],
   "source": [
    "app['Scheduled Day of Week'] = app['ScheduledDay'].dt.dayofweek\n",
    "schDayOfWeek = pd.DataFrame(app.groupby('Scheduled Day of Week').mean()['No-show'])\n",
    "schDayOfWeek['Scheduled Day of Week'] = schDayOfWeek.index\n",
    "app['ScheduledDay'].dt.dayofweek.value_counts()"
   ]
  },
  {
   "cell_type": "code",
   "execution_count": 47,
   "metadata": {},
   "outputs": [
    {
     "data": {
      "text/html": [
       "<div>\n",
       "<style>\n",
       "    .dataframe thead tr:only-child th {\n",
       "        text-align: right;\n",
       "    }\n",
       "\n",
       "    .dataframe thead th {\n",
       "        text-align: left;\n",
       "    }\n",
       "\n",
       "    .dataframe tbody tr th {\n",
       "        vertical-align: top;\n",
       "    }\n",
       "</style>\n",
       "<table border=\"1\" class=\"dataframe\">\n",
       "  <thead>\n",
       "    <tr style=\"text-align: right;\">\n",
       "      <th></th>\n",
       "      <th>No-show</th>\n",
       "      <th>Scheduled Day of Week</th>\n",
       "    </tr>\n",
       "    <tr>\n",
       "      <th>Scheduled Day of Week</th>\n",
       "      <th></th>\n",
       "      <th></th>\n",
       "    </tr>\n",
       "  </thead>\n",
       "  <tbody>\n",
       "    <tr>\n",
       "      <th>0</th>\n",
       "      <td>0.197574</td>\n",
       "      <td>0</td>\n",
       "    </tr>\n",
       "    <tr>\n",
       "      <th>1</th>\n",
       "      <td>0.202194</td>\n",
       "      <td>1</td>\n",
       "    </tr>\n",
       "    <tr>\n",
       "      <th>2</th>\n",
       "      <td>0.201096</td>\n",
       "      <td>2</td>\n",
       "    </tr>\n",
       "    <tr>\n",
       "      <th>3</th>\n",
       "      <td>0.204725</td>\n",
       "      <td>3</td>\n",
       "    </tr>\n",
       "    <tr>\n",
       "      <th>4</th>\n",
       "      <td>0.205498</td>\n",
       "      <td>4</td>\n",
       "    </tr>\n",
       "    <tr>\n",
       "      <th>5</th>\n",
       "      <td>0.041667</td>\n",
       "      <td>5</td>\n",
       "    </tr>\n",
       "  </tbody>\n",
       "</table>\n",
       "</div>"
      ],
      "text/plain": [
       "                        No-show  Scheduled Day of Week\n",
       "Scheduled Day of Week                                 \n",
       "0                      0.197574                      0\n",
       "1                      0.202194                      1\n",
       "2                      0.201096                      2\n",
       "3                      0.204725                      3\n",
       "4                      0.205498                      4\n",
       "5                      0.041667                      5"
      ]
     },
     "execution_count": 47,
     "metadata": {},
     "output_type": "execute_result"
    }
   ],
   "source": [
    "sch_dict = dict(zip(schDayOfWeek['Scheduled Day of Week'], schDayOfWeek['No-show']))\n",
    "app['% Scheduled Day Of Week'] = app['Scheduled Day of Week'].replace(sch_dict)\n",
    "schDayOfWeek"
   ]
  },
  {
   "cell_type": "markdown",
   "metadata": {},
   "source": [
    "They are nearly all the same percentage of no-shows except Saturday where there only 24 samples."
   ]
  },
  {
   "cell_type": "code",
   "execution_count": 48,
   "metadata": {
    "collapsed": true
   },
   "outputs": [],
   "source": [
    "del app['% Scheduled Day Of Week']"
   ]
  },
  {
   "cell_type": "markdown",
   "metadata": {},
   "source": [
    "### Appointment Day of the Week\n",
    "\n",
    "This is the day of the week of the actual appointment."
   ]
  },
  {
   "cell_type": "code",
   "execution_count": 49,
   "metadata": {},
   "outputs": [
    {
     "data": {
      "text/plain": [
       "Appointment Day of Week\n",
       "0    0.206471\n",
       "1    0.200936\n",
       "2    0.196892\n",
       "3    0.193541\n",
       "4    0.212261\n",
       "5    0.230769\n",
       "Name: No-show, dtype: float64"
      ]
     },
     "execution_count": 49,
     "metadata": {},
     "output_type": "execute_result"
    }
   ],
   "source": [
    "app['Appointment Day of Week'] = app['AppointmentDay'].dt.dayofweek\n",
    "app.groupby('Appointment Day of Week').mean()['No-show']"
   ]
  },
  {
   "cell_type": "markdown",
   "metadata": {},
   "source": [
    "There is no significant difference here, we will drop the column."
   ]
  },
  {
   "cell_type": "code",
   "execution_count": 50,
   "metadata": {
    "collapsed": true
   },
   "outputs": [],
   "source": [
    "del app['Appointment Day of Week']"
   ]
  },
  {
   "cell_type": "markdown",
   "metadata": {},
   "source": [
    "### Appointment Month\n",
    "\n",
    "It would be nice to know if certain months or periods of time result in more missed appointments than others, but in the following command we can tell that all of this data was taken from a short period of time in 2016 that included all of May and parts of April and June."
   ]
  },
  {
   "cell_type": "code",
   "execution_count": 51,
   "metadata": {},
   "outputs": [
    {
     "data": {
      "text/plain": [
       "5    80841\n",
       "6    26451\n",
       "4     3235\n",
       "Name: Appointment Month, dtype: int64"
      ]
     },
     "execution_count": 51,
     "metadata": {},
     "output_type": "execute_result"
    }
   ],
   "source": [
    "app['Appointment Month'] = app['AppointmentDay'].dt.month\n",
    "app['Appointment Month'].value_counts()"
   ]
  },
  {
   "cell_type": "code",
   "execution_count": 52,
   "metadata": {
    "collapsed": true
   },
   "outputs": [],
   "source": [
    "del app['Appointment Month']"
   ]
  },
  {
   "cell_type": "markdown",
   "metadata": {},
   "source": [
    "## Modeling"
   ]
  },
  {
   "cell_type": "code",
   "execution_count": 53,
   "metadata": {
    "collapsed": true
   },
   "outputs": [],
   "source": [
    "app['Gender'] = app['Gender'].replace({'F': 0, 'M': 1})"
   ]
  },
  {
   "cell_type": "code",
   "execution_count": 54,
   "metadata": {},
   "outputs": [
    {
     "data": {
      "text/plain": [
       "Index(['PatientId', 'AppointmentID', 'Gender', 'ScheduledDay',\n",
       "       'AppointmentDay', 'Age', 'Neighbourhood', 'Scholarship', 'Hipertension',\n",
       "       'Diabetes', 'Alcoholism', 'Handcap', 'SMS_received', 'No-show', 'Count',\n",
       "       'Patient Occurences', '% Patient', '% Neighbourhood', 'Scheduled Ahead',\n",
       "       '% Scheduled Ahead', 'Scheduled Hour', '% Scheduled Hour',\n",
       "       'Scheduled Day of Week'],\n",
       "      dtype='object')"
      ]
     },
     "execution_count": 54,
     "metadata": {},
     "output_type": "execute_result"
    }
   ],
   "source": [
    "app.columns"
   ]
  },
  {
   "cell_type": "code",
   "execution_count": 55,
   "metadata": {},
   "outputs": [
    {
     "data": {
      "text/plain": [
       "'Accuracy: 0.8221611009074705'"
      ]
     },
     "execution_count": 55,
     "metadata": {},
     "output_type": "execute_result"
    }
   ],
   "source": [
    "X = app[['Gender', 'Age', 'Scholarship', 'Hipertension', 'Diabetes', 'Alcoholism', \\\n",
    "         'Handcap', 'SMS_received', '% Patient', '% Neighbourhood', '% Scheduled Ahead', '% Scheduled Hour']]\n",
    "y = app['No-show']\n",
    "\n",
    "clf = RandomForestClassifier()\n",
    "\n",
    "params = {'n_estimators':[i for i in range(10, 30)],\n",
    "              'min_samples_leaf':[i for i in range(20, 40)],        \n",
    "              'min_samples_split':[2 *i for i in range(5,20)],\n",
    "              'criterion':['gini', 'entropy']}\n",
    "randSearch = RandomizedSearchCV(clf, param_distributions=params, n_iter=200, cv=10)\n",
    "randSearch.fit(X, y)\n",
    "'Accuracy: {}'.format(randSearch.best_score_)"
   ]
  },
  {
   "cell_type": "code",
   "execution_count": 56,
   "metadata": {},
   "outputs": [
    {
     "data": {
      "text/plain": [
       "\"Best Parameters: {'n_estimators': 27, 'min_samples_split': 34, 'min_samples_leaf': 37, 'criterion': 'gini'}\""
      ]
     },
     "execution_count": 56,
     "metadata": {},
     "output_type": "execute_result"
    }
   ],
   "source": [
    "'Best Parameters: {}'.format(randSearch.best_params_)"
   ]
  },
  {
   "cell_type": "markdown",
   "metadata": {},
   "source": [
    "Accuracy of 0.822 is only a slight improvement over our benchmark of 0.798:"
   ]
  },
  {
   "cell_type": "code",
   "execution_count": 57,
   "metadata": {},
   "outputs": [
    {
     "data": {
      "text/plain": [
       "0.798067440534892"
      ]
     },
     "execution_count": 57,
     "metadata": {},
     "output_type": "execute_result"
    }
   ],
   "source": [
    "len(app[app['No-show'] == 0]) / len(app)"
   ]
  },
  {
   "cell_type": "markdown",
   "metadata": {},
   "source": [
    "We are not getting a great result by predicting which patients won't arrive. So we will calculate the probability a patient will miss their appointment and give that data to the panel."
   ]
  },
  {
   "cell_type": "markdown",
   "metadata": {},
   "source": [
    "### Feature Importance"
   ]
  },
  {
   "cell_type": "code",
   "execution_count": 58,
   "metadata": {},
   "outputs": [
    {
     "data": {
      "text/plain": [
       "array([  5.41415540e-03,   5.97897006e-02,   3.11193598e-03,\n",
       "         3.93639876e-03,   1.05452753e-03,   1.26779780e-03,\n",
       "         2.51125314e-04,   3.90033268e-02,   5.18167739e-01,\n",
       "         4.00644437e-02,   3.00251014e-01,   2.76878351e-02])"
      ]
     },
     "execution_count": 58,
     "metadata": {},
     "output_type": "execute_result"
    }
   ],
   "source": [
    "clf = RandomForestClassifier(n_estimators=27, min_samples_split=34, min_samples_leaf=37, criterion='gini')\n",
    "clf.fit(X, y)\n",
    "clf.feature_importances_"
   ]
  },
  {
   "cell_type": "code",
   "execution_count": 59,
   "metadata": {},
   "outputs": [
    {
     "data": {
      "text/html": [
       "<div>\n",
       "<style>\n",
       "    .dataframe thead tr:only-child th {\n",
       "        text-align: right;\n",
       "    }\n",
       "\n",
       "    .dataframe thead th {\n",
       "        text-align: left;\n",
       "    }\n",
       "\n",
       "    .dataframe tbody tr th {\n",
       "        vertical-align: top;\n",
       "    }\n",
       "</style>\n",
       "<table border=\"1\" class=\"dataframe\">\n",
       "  <thead>\n",
       "    <tr style=\"text-align: right;\">\n",
       "      <th></th>\n",
       "      <th>Importance</th>\n",
       "    </tr>\n",
       "  </thead>\n",
       "  <tbody>\n",
       "    <tr>\n",
       "      <th>% Neighbourhood</th>\n",
       "      <td>0.040064</td>\n",
       "    </tr>\n",
       "    <tr>\n",
       "      <th>% Patient</th>\n",
       "      <td>0.518168</td>\n",
       "    </tr>\n",
       "    <tr>\n",
       "      <th>% Scheduled Ahead</th>\n",
       "      <td>0.300251</td>\n",
       "    </tr>\n",
       "    <tr>\n",
       "      <th>% Scheduled Hour</th>\n",
       "      <td>0.027688</td>\n",
       "    </tr>\n",
       "    <tr>\n",
       "      <th>Age</th>\n",
       "      <td>0.059790</td>\n",
       "    </tr>\n",
       "    <tr>\n",
       "      <th>Alcoholism</th>\n",
       "      <td>0.001268</td>\n",
       "    </tr>\n",
       "    <tr>\n",
       "      <th>Diabetes</th>\n",
       "      <td>0.001055</td>\n",
       "    </tr>\n",
       "    <tr>\n",
       "      <th>Gender</th>\n",
       "      <td>0.005414</td>\n",
       "    </tr>\n",
       "    <tr>\n",
       "      <th>Handcap</th>\n",
       "      <td>0.000251</td>\n",
       "    </tr>\n",
       "    <tr>\n",
       "      <th>Hipertension</th>\n",
       "      <td>0.003936</td>\n",
       "    </tr>\n",
       "    <tr>\n",
       "      <th>SMS_received</th>\n",
       "      <td>0.039003</td>\n",
       "    </tr>\n",
       "    <tr>\n",
       "      <th>Scholarship</th>\n",
       "      <td>0.003112</td>\n",
       "    </tr>\n",
       "  </tbody>\n",
       "</table>\n",
       "</div>"
      ],
      "text/plain": [
       "                   Importance\n",
       "% Neighbourhood      0.040064\n",
       "% Patient            0.518168\n",
       "% Scheduled Ahead    0.300251\n",
       "% Scheduled Hour     0.027688\n",
       "Age                  0.059790\n",
       "Alcoholism           0.001268\n",
       "Diabetes             0.001055\n",
       "Gender               0.005414\n",
       "Handcap              0.000251\n",
       "Hipertension         0.003936\n",
       "SMS_received         0.039003\n",
       "Scholarship          0.003112"
      ]
     },
     "execution_count": 59,
     "metadata": {},
     "output_type": "execute_result"
    }
   ],
   "source": [
    "feature_importances = pd.DataFrame(pd.Series(dict(zip(['Gender', 'Age', 'Scholarship', 'Hipertension', 'Diabetes', 'Alcoholism', \\\n",
    "         'Handcap', 'SMS_received', '% Patient', '% Neighbourhood', '% Scheduled Ahead', '% Scheduled Hour'], \\\n",
    "         list(clf.feature_importances_)))), columns=['Importance'])\n",
    "feature_importances"
   ]
  },
  {
   "cell_type": "code",
   "execution_count": 60,
   "metadata": {},
   "outputs": [
    {
     "data": {
      "text/plain": [
       "<matplotlib.axes._subplots.AxesSubplot at 0x255de923240>"
      ]
     },
     "execution_count": 60,
     "metadata": {},
     "output_type": "execute_result"
    },
    {
     "data": {
      "image/png": "[encoded data removed]",
      "text/plain": [
       "<matplotlib.figure.Figure at 0x254a6dd7198>"
      ]
     },
     "metadata": {},
     "output_type": "display_data"
    }
   ],
   "source": [
    "feature_importances['Feature'] = feature_importances.index\n",
    "feature_importances = feature_importances.sort_values('Importance', ascending=False)\n",
    "plt.title('Feature Importance')\n",
    "sns.barplot(x='Importance', y='Feature', data=feature_importances)"
   ]
  },
  {
   "cell_type": "markdown",
   "metadata": {},
   "source": [
    "Patient history is massively important. So is days scheduled ahead. Age, neighborhood, the time of day of scheduling (not the appointment), SMS-received are moderately important. None of the medical conditions are important."
   ]
  },
  {
   "cell_type": "markdown",
   "metadata": {},
   "source": [
    "### Calculating Probabilities"
   ]
  },
  {
   "cell_type": "code",
   "execution_count": 61,
   "metadata": {},
   "outputs": [
    {
     "data": {
      "text/html": [
       "<div>\n",
       "<style>\n",
       "    .dataframe thead tr:only-child th {\n",
       "        text-align: right;\n",
       "    }\n",
       "\n",
       "    .dataframe thead th {\n",
       "        text-align: left;\n",
       "    }\n",
       "\n",
       "    .dataframe tbody tr th {\n",
       "        vertical-align: top;\n",
       "    }\n",
       "</style>\n",
       "<table border=\"1\" class=\"dataframe\">\n",
       "  <thead>\n",
       "    <tr style=\"text-align: right;\">\n",
       "      <th></th>\n",
       "      <th>PatientId</th>\n",
       "      <th>AppointmentID</th>\n",
       "      <th>AppointmentDay</th>\n",
       "      <th>No-show</th>\n",
       "      <th>Probability of No-show</th>\n",
       "    </tr>\n",
       "  </thead>\n",
       "  <tbody>\n",
       "    <tr>\n",
       "      <th>0</th>\n",
       "      <td>2.987250e+13</td>\n",
       "      <td>5642903</td>\n",
       "      <td>2016-04-29</td>\n",
       "      <td>0</td>\n",
       "      <td>0.010867</td>\n",
       "    </tr>\n",
       "    <tr>\n",
       "      <th>1</th>\n",
       "      <td>5.589978e+14</td>\n",
       "      <td>5642503</td>\n",
       "      <td>2016-04-29</td>\n",
       "      <td>0</td>\n",
       "      <td>0.034231</td>\n",
       "    </tr>\n",
       "    <tr>\n",
       "      <th>2</th>\n",
       "      <td>4.262962e+12</td>\n",
       "      <td>5642549</td>\n",
       "      <td>2016-04-29</td>\n",
       "      <td>0</td>\n",
       "      <td>0.017212</td>\n",
       "    </tr>\n",
       "    <tr>\n",
       "      <th>3</th>\n",
       "      <td>8.679512e+11</td>\n",
       "      <td>5642828</td>\n",
       "      <td>2016-04-29</td>\n",
       "      <td>0</td>\n",
       "      <td>0.044941</td>\n",
       "    </tr>\n",
       "    <tr>\n",
       "      <th>4</th>\n",
       "      <td>8.841186e+12</td>\n",
       "      <td>5642494</td>\n",
       "      <td>2016-04-29</td>\n",
       "      <td>0</td>\n",
       "      <td>0.031329</td>\n",
       "    </tr>\n",
       "    <tr>\n",
       "      <th>5</th>\n",
       "      <td>9.598513e+13</td>\n",
       "      <td>5626772</td>\n",
       "      <td>2016-04-29</td>\n",
       "      <td>0</td>\n",
       "      <td>0.148119</td>\n",
       "    </tr>\n",
       "    <tr>\n",
       "      <th>6</th>\n",
       "      <td>7.336882e+14</td>\n",
       "      <td>5630279</td>\n",
       "      <td>2016-04-29</td>\n",
       "      <td>1</td>\n",
       "      <td>0.334614</td>\n",
       "    </tr>\n",
       "    <tr>\n",
       "      <th>7</th>\n",
       "      <td>3.449833e+12</td>\n",
       "      <td>5630575</td>\n",
       "      <td>2016-04-29</td>\n",
       "      <td>1</td>\n",
       "      <td>0.263136</td>\n",
       "    </tr>\n",
       "    <tr>\n",
       "      <th>8</th>\n",
       "      <td>5.639473e+13</td>\n",
       "      <td>5638447</td>\n",
       "      <td>2016-04-29</td>\n",
       "      <td>0</td>\n",
       "      <td>0.025206</td>\n",
       "    </tr>\n",
       "    <tr>\n",
       "      <th>9</th>\n",
       "      <td>7.812456e+13</td>\n",
       "      <td>5629123</td>\n",
       "      <td>2016-04-29</td>\n",
       "      <td>0</td>\n",
       "      <td>0.272944</td>\n",
       "    </tr>\n",
       "    <tr>\n",
       "      <th>10</th>\n",
       "      <td>7.345362e+14</td>\n",
       "      <td>5630213</td>\n",
       "      <td>2016-04-29</td>\n",
       "      <td>0</td>\n",
       "      <td>0.256903</td>\n",
       "    </tr>\n",
       "    <tr>\n",
       "      <th>11</th>\n",
       "      <td>7.542951e+12</td>\n",
       "      <td>5620163</td>\n",
       "      <td>2016-04-29</td>\n",
       "      <td>1</td>\n",
       "      <td>0.299385</td>\n",
       "    </tr>\n",
       "    <tr>\n",
       "      <th>12</th>\n",
       "      <td>5.666548e+14</td>\n",
       "      <td>5634718</td>\n",
       "      <td>2016-04-29</td>\n",
       "      <td>0</td>\n",
       "      <td>0.238703</td>\n",
       "    </tr>\n",
       "    <tr>\n",
       "      <th>13</th>\n",
       "      <td>9.113946e+14</td>\n",
       "      <td>5636249</td>\n",
       "      <td>2016-04-29</td>\n",
       "      <td>0</td>\n",
       "      <td>0.230318</td>\n",
       "    </tr>\n",
       "    <tr>\n",
       "      <th>14</th>\n",
       "      <td>9.988472e+13</td>\n",
       "      <td>5633951</td>\n",
       "      <td>2016-04-29</td>\n",
       "      <td>0</td>\n",
       "      <td>0.184187</td>\n",
       "    </tr>\n",
       "    <tr>\n",
       "      <th>15</th>\n",
       "      <td>9.994839e+10</td>\n",
       "      <td>5620206</td>\n",
       "      <td>2016-04-29</td>\n",
       "      <td>0</td>\n",
       "      <td>0.254074</td>\n",
       "    </tr>\n",
       "    <tr>\n",
       "      <th>16</th>\n",
       "      <td>8.457439e+13</td>\n",
       "      <td>5633121</td>\n",
       "      <td>2016-04-29</td>\n",
       "      <td>0</td>\n",
       "      <td>0.194791</td>\n",
       "    </tr>\n",
       "    <tr>\n",
       "      <th>17</th>\n",
       "      <td>1.479497e+13</td>\n",
       "      <td>5633460</td>\n",
       "      <td>2016-04-29</td>\n",
       "      <td>1</td>\n",
       "      <td>0.229312</td>\n",
       "    </tr>\n",
       "    <tr>\n",
       "      <th>18</th>\n",
       "      <td>1.713538e+13</td>\n",
       "      <td>5621836</td>\n",
       "      <td>2016-04-29</td>\n",
       "      <td>0</td>\n",
       "      <td>0.293325</td>\n",
       "    </tr>\n",
       "    <tr>\n",
       "      <th>19</th>\n",
       "      <td>7.223289e+12</td>\n",
       "      <td>5640433</td>\n",
       "      <td>2016-04-29</td>\n",
       "      <td>0</td>\n",
       "      <td>0.023336</td>\n",
       "    </tr>\n",
       "  </tbody>\n",
       "</table>\n",
       "</div>"
      ],
      "text/plain": [
       "       PatientId  AppointmentID AppointmentDay  No-show  \\\n",
       "0   2.987250e+13        5642903     2016-04-29        0   \n",
       "1   5.589978e+14        5642503     2016-04-29        0   \n",
       "2   4.262962e+12        5642549     2016-04-29        0   \n",
       "3   8.679512e+11        5642828     2016-04-29        0   \n",
       "4   8.841186e+12        5642494     2016-04-29        0   \n",
       "5   9.598513e+13        5626772     2016-04-29        0   \n",
       "6   7.336882e+14        5630279     2016-04-29        1   \n",
       "7   3.449833e+12        5630575     2016-04-29        1   \n",
       "8   5.639473e+13        5638447     2016-04-29        0   \n",
       "9   7.812456e+13        5629123     2016-04-29        0   \n",
       "10  7.345362e+14        5630213     2016-04-29        0   \n",
       "11  7.542951e+12        5620163     2016-04-29        1   \n",
       "12  5.666548e+14        5634718     2016-04-29        0   \n",
       "13  9.113946e+14        5636249     2016-04-29        0   \n",
       "14  9.988472e+13        5633951     2016-04-29        0   \n",
       "15  9.994839e+10        5620206     2016-04-29        0   \n",
       "16  8.457439e+13        5633121     2016-04-29        0   \n",
       "17  1.479497e+13        5633460     2016-04-29        1   \n",
       "18  1.713538e+13        5621836     2016-04-29        0   \n",
       "19  7.223289e+12        5640433     2016-04-29        0   \n",
       "\n",
       "    Probability of No-show  \n",
       "0                 0.010867  \n",
       "1                 0.034231  \n",
       "2                 0.017212  \n",
       "3                 0.044941  \n",
       "4                 0.031329  \n",
       "5                 0.148119  \n",
       "6                 0.334614  \n",
       "7                 0.263136  \n",
       "8                 0.025206  \n",
       "9                 0.272944  \n",
       "10                0.256903  \n",
       "11                0.299385  \n",
       "12                0.238703  \n",
       "13                0.230318  \n",
       "14                0.184187  \n",
       "15                0.254074  \n",
       "16                0.194791  \n",
       "17                0.229312  \n",
       "18                0.293325  \n",
       "19                0.023336  "
      ]
     },
     "execution_count": 61,
     "metadata": {},
     "output_type": "execute_result"
    }
   ],
   "source": [
    "probability_array = clf.predict_proba(X)[:,1]\n",
    "app['Probability of No-show'] = probability_array\n",
    "app[['PatientId', 'AppointmentID', 'AppointmentDay', 'No-show', 'Probability of No-show']].head(20)"
   ]
  },
  {
   "cell_type": "markdown",
   "metadata": {},
   "source": [
    "Now we will check the distribution of probabilities for made and missed appointments."
   ]
  },
  {
   "cell_type": "code",
   "execution_count": 62,
   "metadata": {},
   "outputs": [
    {
     "data": {
      "text/plain": [
       "<matplotlib.axes._subplots.AxesSubplot at 0x255de901630>"
      ]
     },
     "execution_count": 62,
     "metadata": {},
     "output_type": "execute_result"
    },
    {
     "data": {
      "image/png": "[encoded data removed]",
      "text/plain": [
       "<matplotlib.figure.Figure at 0x255c9ccacc0>"
      ]
     },
     "metadata": {},
     "output_type": "display_data"
    }
   ],
   "source": [
    "#Not scaled correctly\n",
    "plt.title('Probability of a No-Show, Blue: Showed, Orange: No-show')\n",
    "sns.distplot(app[app['No-show'] != 1]['Probability of No-show'])\n",
    "sns.distplot(app[app['No-show'] == 1]['Probability of No-show'])"
   ]
  },
  {
   "cell_type": "code",
   "execution_count": 63,
   "metadata": {},
   "outputs": [
    {
     "data": {
      "text/plain": [
       "<matplotlib.axes._subplots.AxesSubplot at 0x255f452d7b8>"
      ]
     },
     "execution_count": 63,
     "metadata": {},
     "output_type": "execute_result"
    },
    {
     "data": {
      "image/png": "[encoded data removed]",
      "text/plain": [
       "<matplotlib.figure.Figure at 0x255c9ccabe0>"
      ]
     },
     "metadata": {},
     "output_type": "display_data"
    }
   ],
   "source": [
    "#Scaled Correctly\n",
    "plt.title('Probability of a No-Show')\n",
    "sns.violinplot(x='Count', y='Probability of No-show', hue='No-show', data=app, split=True, inner='quart', scale='count')"
   ]
  },
  {
   "cell_type": "markdown",
   "metadata": {},
   "source": [
    "Our classifier is very accurate predicting patients with less than a 10% probability. The distribution is small from 10%-18%. Then we can see that the classifier has a tough job predicting no-shows for probability from %20-%35. Then from ~40% on the chances become likely that the appointment will be missed."
   ]
  },
  {
   "cell_type": "code",
   "execution_count": 64,
   "metadata": {},
   "outputs": [
    {
     "data": {
      "text/plain": [
       "count    88208.000000\n",
       "mean         0.154865\n",
       "std          0.144649\n",
       "min          0.000000\n",
       "5%           0.009508\n",
       "10%          0.015589\n",
       "25%          0.033259\n",
       "50%          0.085572\n",
       "75%          0.263847\n",
       "90%          0.356967\n",
       "95%          0.405399\n",
       "max          0.874665\n",
       "Name: Probability of No-show, dtype: float64"
      ]
     },
     "execution_count": 64,
     "metadata": {},
     "output_type": "execute_result"
    }
   ],
   "source": [
    "app[app['No-show'] == 0].describe(percentiles=[0.05, 0.1, 0.25, 0.5, 0.75, 0.9, 0.95])['Probability of No-show']"
   ]
  },
  {
   "cell_type": "code",
   "execution_count": 65,
   "metadata": {},
   "outputs": [
    {
     "data": {
      "text/plain": [
       "count    22319.000000\n",
       "mean         0.389133\n",
       "std          0.183738\n",
       "min          0.017582\n",
       "5%           0.139190\n",
       "10%          0.198977\n",
       "25%          0.273291\n",
       "50%          0.354876\n",
       "75%          0.449175\n",
       "90%          0.694735\n",
       "95%          0.769570\n",
       "max          0.956867\n",
       "Name: Probability of No-show, dtype: float64"
      ]
     },
     "execution_count": 65,
     "metadata": {},
     "output_type": "execute_result"
    }
   ],
   "source": [
    "app[app['No-show'] == 1].describe(percentiles=[0.05, 0.1, 0.25, 0.5, 0.75, 0.9, 0.95])['Probability of No-show']"
   ]
  },
  {
   "cell_type": "markdown",
   "metadata": {},
   "source": [
    "## Conclusion\n",
    "\n",
    "It is difficult to predict specific appointments that will be missed. But, we found risk factors that result in a higher chance of a no-show. These include:\n",
    "\n",
    "-Reccuring patients: The patient's record of appointment no-shows plays a huge role.\n",
    "\n",
    "-Age: Chances of missing an appointment rise from age 0 to 20, then slowly decline from 20 to 80.\n",
    "\n",
    "-Neighborhood: (or location of the appointment)\n",
    "\n",
    "-Days scheduled ahead: Patients are less likely to miss their appointment when they scheduled it shortly ahead of time. The probability they miss the appointment increases with days scheduled ahead, until that is about 20, then it doesn't matter.\n",
    "\n",
    "-Hour scheduled: The hour the patient scheduled the appointment (not the appointment time) affected the probability slightly. The earlier the patient scheduled it the more likely he/she made the appointment.\n",
    "\n",
    "-Receiving a text message alert had a slight impact.\n",
    "\n",
    "Things that matter less:\n",
    "\n",
    "-The gender of the patient\n",
    "\n",
    "-The day of the week of the appointment and the day of the week the appointment was scheduled ahead\n",
    "\n",
    "-Medical conditions\n",
    "\n",
    "All this being considered, we can give the panel our assessment and they can use the model on unseen, future data. The medical personnel can use the information, mainly the probability that was calculated and risk factors involved to try to improve medical appointment attendence. More data can return to us and we can see what has changed."
   ]
  }
 ],
 "metadata": {
  "kernelspec": {
   "display_name": "Python 3",
   "language": "python",
   "name": "python3"
  },
  "language_info": {
   "codemirror_mode": {
    "name": "ipython",
    "version": 3
   },
   "file_extension": ".py",
   "mimetype": "text/x-python",
   "name": "python",
   "nbconvert_exporter": "python",
   "pygments_lexer": "ipython3",
   "version": "3.6.3"
  }
 },
 "nbformat": 4,
 "nbformat_minor": 2
}
